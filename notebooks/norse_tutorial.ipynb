{
  "nbformat": 4,
  "nbformat_minor": 0,
  "metadata": {
    "colab": {
      "name": "norse-tutorial.ipynb",
      "provenance": [],
      "collapsed_sections": [],
      "toc_visible": true
    },
    "kernelspec": {
      "name": "python3",
      "display_name": "Python 3"
    },
    "accelerator": "GPU",
    "widgets": {
      "application/vnd.jupyter.widget-state+json": {
        "d7b7038b45c945d699d0255da2c309d6": {
          "model_module": "@jupyter-widgets/controls",
          "model_name": "HBoxModel",
          "state": {
            "_view_name": "HBoxView",
            "_dom_classes": [],
            "_model_name": "HBoxModel",
            "_view_module": "@jupyter-widgets/controls",
            "_model_module_version": "1.5.0",
            "_view_count": null,
            "_view_module_version": "1.5.0",
            "box_style": "",
            "layout": "IPY_MODEL_0d9f549f588e4f78869954ab3190bda6",
            "_model_module": "@jupyter-widgets/controls",
            "children": [
              "IPY_MODEL_dbfbc107485a471c8c10cc3a0399f74e",
              "IPY_MODEL_fde447063f8e41a2bb1d8940b22cbca2"
            ]
          }
        },
        "0d9f549f588e4f78869954ab3190bda6": {
          "model_module": "@jupyter-widgets/base",
          "model_name": "LayoutModel",
          "state": {
            "_view_name": "LayoutView",
            "grid_template_rows": null,
            "right": null,
            "justify_content": null,
            "_view_module": "@jupyter-widgets/base",
            "overflow": null,
            "_model_module_version": "1.2.0",
            "_view_count": null,
            "flex_flow": null,
            "width": null,
            "min_width": null,
            "border": null,
            "align_items": null,
            "bottom": null,
            "_model_module": "@jupyter-widgets/base",
            "top": null,
            "grid_column": null,
            "overflow_y": null,
            "overflow_x": null,
            "grid_auto_flow": null,
            "grid_area": null,
            "grid_template_columns": null,
            "flex": null,
            "_model_name": "LayoutModel",
            "justify_items": null,
            "grid_row": null,
            "max_height": null,
            "align_content": null,
            "visibility": null,
            "align_self": null,
            "height": null,
            "min_height": null,
            "padding": null,
            "grid_auto_rows": null,
            "grid_gap": null,
            "max_width": null,
            "order": null,
            "_view_module_version": "1.2.0",
            "grid_template_areas": null,
            "object_position": null,
            "object_fit": null,
            "grid_auto_columns": null,
            "margin": null,
            "display": null,
            "left": null
          }
        },
        "dbfbc107485a471c8c10cc3a0399f74e": {
          "model_module": "@jupyter-widgets/controls",
          "model_name": "IntProgressModel",
          "state": {
            "_view_name": "ProgressView",
            "style": "IPY_MODEL_6ea4177e51ee40728468fb609058cb7b",
            "_dom_classes": [],
            "description": "",
            "_model_name": "IntProgressModel",
            "bar_style": "success",
            "max": 1,
            "_view_module": "@jupyter-widgets/controls",
            "_model_module_version": "1.5.0",
            "value": 1,
            "_view_count": null,
            "_view_module_version": "1.5.0",
            "orientation": "horizontal",
            "min": 0,
            "description_tooltip": null,
            "_model_module": "@jupyter-widgets/controls",
            "layout": "IPY_MODEL_0b219fee387f488686d5ff7bc8458648"
          }
        },
        "fde447063f8e41a2bb1d8940b22cbca2": {
          "model_module": "@jupyter-widgets/controls",
          "model_name": "HTMLModel",
          "state": {
            "_view_name": "HTMLView",
            "style": "IPY_MODEL_d3ef709469294f52af88b4d66094ba81",
            "_dom_classes": [],
            "description": "",
            "_model_name": "HTMLModel",
            "placeholder": "​",
            "_view_module": "@jupyter-widgets/controls",
            "_model_module_version": "1.5.0",
            "value": "9920512it [00:01, 8536580.96it/s]",
            "_view_count": null,
            "_view_module_version": "1.5.0",
            "description_tooltip": null,
            "_model_module": "@jupyter-widgets/controls",
            "layout": "IPY_MODEL_582e6e7e7f43442fb6e0d6b5c5105670"
          }
        },
        "6ea4177e51ee40728468fb609058cb7b": {
          "model_module": "@jupyter-widgets/controls",
          "model_name": "ProgressStyleModel",
          "state": {
            "_view_name": "StyleView",
            "_model_name": "ProgressStyleModel",
            "description_width": "",
            "_view_module": "@jupyter-widgets/base",
            "_model_module_version": "1.5.0",
            "_view_count": null,
            "_view_module_version": "1.2.0",
            "bar_color": null,
            "_model_module": "@jupyter-widgets/controls"
          }
        },
        "0b219fee387f488686d5ff7bc8458648": {
          "model_module": "@jupyter-widgets/base",
          "model_name": "LayoutModel",
          "state": {
            "_view_name": "LayoutView",
            "grid_template_rows": null,
            "right": null,
            "justify_content": null,
            "_view_module": "@jupyter-widgets/base",
            "overflow": null,
            "_model_module_version": "1.2.0",
            "_view_count": null,
            "flex_flow": null,
            "width": null,
            "min_width": null,
            "border": null,
            "align_items": null,
            "bottom": null,
            "_model_module": "@jupyter-widgets/base",
            "top": null,
            "grid_column": null,
            "overflow_y": null,
            "overflow_x": null,
            "grid_auto_flow": null,
            "grid_area": null,
            "grid_template_columns": null,
            "flex": null,
            "_model_name": "LayoutModel",
            "justify_items": null,
            "grid_row": null,
            "max_height": null,
            "align_content": null,
            "visibility": null,
            "align_self": null,
            "height": null,
            "min_height": null,
            "padding": null,
            "grid_auto_rows": null,
            "grid_gap": null,
            "max_width": null,
            "order": null,
            "_view_module_version": "1.2.0",
            "grid_template_areas": null,
            "object_position": null,
            "object_fit": null,
            "grid_auto_columns": null,
            "margin": null,
            "display": null,
            "left": null
          }
        },
        "d3ef709469294f52af88b4d66094ba81": {
          "model_module": "@jupyter-widgets/controls",
          "model_name": "DescriptionStyleModel",
          "state": {
            "_view_name": "StyleView",
            "_model_name": "DescriptionStyleModel",
            "description_width": "",
            "_view_module": "@jupyter-widgets/base",
            "_model_module_version": "1.5.0",
            "_view_count": null,
            "_view_module_version": "1.2.0",
            "_model_module": "@jupyter-widgets/controls"
          }
        },
        "582e6e7e7f43442fb6e0d6b5c5105670": {
          "model_module": "@jupyter-widgets/base",
          "model_name": "LayoutModel",
          "state": {
            "_view_name": "LayoutView",
            "grid_template_rows": null,
            "right": null,
            "justify_content": null,
            "_view_module": "@jupyter-widgets/base",
            "overflow": null,
            "_model_module_version": "1.2.0",
            "_view_count": null,
            "flex_flow": null,
            "width": null,
            "min_width": null,
            "border": null,
            "align_items": null,
            "bottom": null,
            "_model_module": "@jupyter-widgets/base",
            "top": null,
            "grid_column": null,
            "overflow_y": null,
            "overflow_x": null,
            "grid_auto_flow": null,
            "grid_area": null,
            "grid_template_columns": null,
            "flex": null,
            "_model_name": "LayoutModel",
            "justify_items": null,
            "grid_row": null,
            "max_height": null,
            "align_content": null,
            "visibility": null,
            "align_self": null,
            "height": null,
            "min_height": null,
            "padding": null,
            "grid_auto_rows": null,
            "grid_gap": null,
            "max_width": null,
            "order": null,
            "_view_module_version": "1.2.0",
            "grid_template_areas": null,
            "object_position": null,
            "object_fit": null,
            "grid_auto_columns": null,
            "margin": null,
            "display": null,
            "left": null
          }
        },
        "c2bd3626f34943979b23a5cc98b01b0c": {
          "model_module": "@jupyter-widgets/controls",
          "model_name": "HBoxModel",
          "state": {
            "_view_name": "HBoxView",
            "_dom_classes": [],
            "_model_name": "HBoxModel",
            "_view_module": "@jupyter-widgets/controls",
            "_model_module_version": "1.5.0",
            "_view_count": null,
            "_view_module_version": "1.5.0",
            "box_style": "",
            "layout": "IPY_MODEL_1cec0bce85214620924abe2e4aa0d08b",
            "_model_module": "@jupyter-widgets/controls",
            "children": [
              "IPY_MODEL_e9ba974f52d546f9b966eb7a0a995bc0",
              "IPY_MODEL_cf8f425480784af5bac50188ab03480a"
            ]
          }
        },
        "1cec0bce85214620924abe2e4aa0d08b": {
          "model_module": "@jupyter-widgets/base",
          "model_name": "LayoutModel",
          "state": {
            "_view_name": "LayoutView",
            "grid_template_rows": null,
            "right": null,
            "justify_content": null,
            "_view_module": "@jupyter-widgets/base",
            "overflow": null,
            "_model_module_version": "1.2.0",
            "_view_count": null,
            "flex_flow": null,
            "width": null,
            "min_width": null,
            "border": null,
            "align_items": null,
            "bottom": null,
            "_model_module": "@jupyter-widgets/base",
            "top": null,
            "grid_column": null,
            "overflow_y": null,
            "overflow_x": null,
            "grid_auto_flow": null,
            "grid_area": null,
            "grid_template_columns": null,
            "flex": null,
            "_model_name": "LayoutModel",
            "justify_items": null,
            "grid_row": null,
            "max_height": null,
            "align_content": null,
            "visibility": null,
            "align_self": null,
            "height": null,
            "min_height": null,
            "padding": null,
            "grid_auto_rows": null,
            "grid_gap": null,
            "max_width": null,
            "order": null,
            "_view_module_version": "1.2.0",
            "grid_template_areas": null,
            "object_position": null,
            "object_fit": null,
            "grid_auto_columns": null,
            "margin": null,
            "display": null,
            "left": null
          }
        },
        "e9ba974f52d546f9b966eb7a0a995bc0": {
          "model_module": "@jupyter-widgets/controls",
          "model_name": "IntProgressModel",
          "state": {
            "_view_name": "ProgressView",
            "style": "IPY_MODEL_61dd6632930440429a60b40c5c1a1802",
            "_dom_classes": [],
            "description": "",
            "_model_name": "IntProgressModel",
            "bar_style": "success",
            "max": 1,
            "_view_module": "@jupyter-widgets/controls",
            "_model_module_version": "1.5.0",
            "value": 1,
            "_view_count": null,
            "_view_module_version": "1.5.0",
            "orientation": "horizontal",
            "min": 0,
            "description_tooltip": null,
            "_model_module": "@jupyter-widgets/controls",
            "layout": "IPY_MODEL_ad2843733fc044d9bee420888999c443"
          }
        },
        "cf8f425480784af5bac50188ab03480a": {
          "model_module": "@jupyter-widgets/controls",
          "model_name": "HTMLModel",
          "state": {
            "_view_name": "HTMLView",
            "style": "IPY_MODEL_7f2ef0b859ed4c3190d81b11c062b0c2",
            "_dom_classes": [],
            "description": "",
            "_model_name": "HTMLModel",
            "placeholder": "​",
            "_view_module": "@jupyter-widgets/controls",
            "_model_module_version": "1.5.0",
            "value": "32768it [00:00, 82889.87it/s]",
            "_view_count": null,
            "_view_module_version": "1.5.0",
            "description_tooltip": null,
            "_model_module": "@jupyter-widgets/controls",
            "layout": "IPY_MODEL_da80b7d5ff124d36830d8aae0f4ea7e8"
          }
        },
        "61dd6632930440429a60b40c5c1a1802": {
          "model_module": "@jupyter-widgets/controls",
          "model_name": "ProgressStyleModel",
          "state": {
            "_view_name": "StyleView",
            "_model_name": "ProgressStyleModel",
            "description_width": "",
            "_view_module": "@jupyter-widgets/base",
            "_model_module_version": "1.5.0",
            "_view_count": null,
            "_view_module_version": "1.2.0",
            "bar_color": null,
            "_model_module": "@jupyter-widgets/controls"
          }
        },
        "ad2843733fc044d9bee420888999c443": {
          "model_module": "@jupyter-widgets/base",
          "model_name": "LayoutModel",
          "state": {
            "_view_name": "LayoutView",
            "grid_template_rows": null,
            "right": null,
            "justify_content": null,
            "_view_module": "@jupyter-widgets/base",
            "overflow": null,
            "_model_module_version": "1.2.0",
            "_view_count": null,
            "flex_flow": null,
            "width": null,
            "min_width": null,
            "border": null,
            "align_items": null,
            "bottom": null,
            "_model_module": "@jupyter-widgets/base",
            "top": null,
            "grid_column": null,
            "overflow_y": null,
            "overflow_x": null,
            "grid_auto_flow": null,
            "grid_area": null,
            "grid_template_columns": null,
            "flex": null,
            "_model_name": "LayoutModel",
            "justify_items": null,
            "grid_row": null,
            "max_height": null,
            "align_content": null,
            "visibility": null,
            "align_self": null,
            "height": null,
            "min_height": null,
            "padding": null,
            "grid_auto_rows": null,
            "grid_gap": null,
            "max_width": null,
            "order": null,
            "_view_module_version": "1.2.0",
            "grid_template_areas": null,
            "object_position": null,
            "object_fit": null,
            "grid_auto_columns": null,
            "margin": null,
            "display": null,
            "left": null
          }
        },
        "7f2ef0b859ed4c3190d81b11c062b0c2": {
          "model_module": "@jupyter-widgets/controls",
          "model_name": "DescriptionStyleModel",
          "state": {
            "_view_name": "StyleView",
            "_model_name": "DescriptionStyleModel",
            "description_width": "",
            "_view_module": "@jupyter-widgets/base",
            "_model_module_version": "1.5.0",
            "_view_count": null,
            "_view_module_version": "1.2.0",
            "_model_module": "@jupyter-widgets/controls"
          }
        },
        "da80b7d5ff124d36830d8aae0f4ea7e8": {
          "model_module": "@jupyter-widgets/base",
          "model_name": "LayoutModel",
          "state": {
            "_view_name": "LayoutView",
            "grid_template_rows": null,
            "right": null,
            "justify_content": null,
            "_view_module": "@jupyter-widgets/base",
            "overflow": null,
            "_model_module_version": "1.2.0",
            "_view_count": null,
            "flex_flow": null,
            "width": null,
            "min_width": null,
            "border": null,
            "align_items": null,
            "bottom": null,
            "_model_module": "@jupyter-widgets/base",
            "top": null,
            "grid_column": null,
            "overflow_y": null,
            "overflow_x": null,
            "grid_auto_flow": null,
            "grid_area": null,
            "grid_template_columns": null,
            "flex": null,
            "_model_name": "LayoutModel",
            "justify_items": null,
            "grid_row": null,
            "max_height": null,
            "align_content": null,
            "visibility": null,
            "align_self": null,
            "height": null,
            "min_height": null,
            "padding": null,
            "grid_auto_rows": null,
            "grid_gap": null,
            "max_width": null,
            "order": null,
            "_view_module_version": "1.2.0",
            "grid_template_areas": null,
            "object_position": null,
            "object_fit": null,
            "grid_auto_columns": null,
            "margin": null,
            "display": null,
            "left": null
          }
        },
        "68374b98bd6c406d96ed9b594fb72a05": {
          "model_module": "@jupyter-widgets/controls",
          "model_name": "HBoxModel",
          "state": {
            "_view_name": "HBoxView",
            "_dom_classes": [],
            "_model_name": "HBoxModel",
            "_view_module": "@jupyter-widgets/controls",
            "_model_module_version": "1.5.0",
            "_view_count": null,
            "_view_module_version": "1.5.0",
            "box_style": "",
            "layout": "IPY_MODEL_68572416f5eb43d1bc61ab282907fa2a",
            "_model_module": "@jupyter-widgets/controls",
            "children": [
              "IPY_MODEL_f3995c1d9cc34fd9a77e68bfebf8884d",
              "IPY_MODEL_44399f1ad55a4409ad23f6b4052d8c31"
            ]
          }
        },
        "68572416f5eb43d1bc61ab282907fa2a": {
          "model_module": "@jupyter-widgets/base",
          "model_name": "LayoutModel",
          "state": {
            "_view_name": "LayoutView",
            "grid_template_rows": null,
            "right": null,
            "justify_content": null,
            "_view_module": "@jupyter-widgets/base",
            "overflow": null,
            "_model_module_version": "1.2.0",
            "_view_count": null,
            "flex_flow": null,
            "width": null,
            "min_width": null,
            "border": null,
            "align_items": null,
            "bottom": null,
            "_model_module": "@jupyter-widgets/base",
            "top": null,
            "grid_column": null,
            "overflow_y": null,
            "overflow_x": null,
            "grid_auto_flow": null,
            "grid_area": null,
            "grid_template_columns": null,
            "flex": null,
            "_model_name": "LayoutModel",
            "justify_items": null,
            "grid_row": null,
            "max_height": null,
            "align_content": null,
            "visibility": null,
            "align_self": null,
            "height": null,
            "min_height": null,
            "padding": null,
            "grid_auto_rows": null,
            "grid_gap": null,
            "max_width": null,
            "order": null,
            "_view_module_version": "1.2.0",
            "grid_template_areas": null,
            "object_position": null,
            "object_fit": null,
            "grid_auto_columns": null,
            "margin": null,
            "display": null,
            "left": null
          }
        },
        "f3995c1d9cc34fd9a77e68bfebf8884d": {
          "model_module": "@jupyter-widgets/controls",
          "model_name": "IntProgressModel",
          "state": {
            "_view_name": "ProgressView",
            "style": "IPY_MODEL_67cb0fee87d04374ac6c66cf105051fc",
            "_dom_classes": [],
            "description": "",
            "_model_name": "IntProgressModel",
            "bar_style": "success",
            "max": 1,
            "_view_module": "@jupyter-widgets/controls",
            "_model_module_version": "1.5.0",
            "value": 1,
            "_view_count": null,
            "_view_module_version": "1.5.0",
            "orientation": "horizontal",
            "min": 0,
            "description_tooltip": null,
            "_model_module": "@jupyter-widgets/controls",
            "layout": "IPY_MODEL_7cc4909d775a47c1a0b6ddce24bcd258"
          }
        },
        "44399f1ad55a4409ad23f6b4052d8c31": {
          "model_module": "@jupyter-widgets/controls",
          "model_name": "HTMLModel",
          "state": {
            "_view_name": "HTMLView",
            "style": "IPY_MODEL_0a51b04f8f8845aeb0f1779170ace84d",
            "_dom_classes": [],
            "description": "",
            "_model_name": "HTMLModel",
            "placeholder": "​",
            "_view_module": "@jupyter-widgets/controls",
            "_model_module_version": "1.5.0",
            "value": "1654784it [00:00, 1962315.61it/s]",
            "_view_count": null,
            "_view_module_version": "1.5.0",
            "description_tooltip": null,
            "_model_module": "@jupyter-widgets/controls",
            "layout": "IPY_MODEL_b8f8a3fb71af4f2e9b8b5c8e11fe8224"
          }
        },
        "67cb0fee87d04374ac6c66cf105051fc": {
          "model_module": "@jupyter-widgets/controls",
          "model_name": "ProgressStyleModel",
          "state": {
            "_view_name": "StyleView",
            "_model_name": "ProgressStyleModel",
            "description_width": "",
            "_view_module": "@jupyter-widgets/base",
            "_model_module_version": "1.5.0",
            "_view_count": null,
            "_view_module_version": "1.2.0",
            "bar_color": null,
            "_model_module": "@jupyter-widgets/controls"
          }
        },
        "7cc4909d775a47c1a0b6ddce24bcd258": {
          "model_module": "@jupyter-widgets/base",
          "model_name": "LayoutModel",
          "state": {
            "_view_name": "LayoutView",
            "grid_template_rows": null,
            "right": null,
            "justify_content": null,
            "_view_module": "@jupyter-widgets/base",
            "overflow": null,
            "_model_module_version": "1.2.0",
            "_view_count": null,
            "flex_flow": null,
            "width": null,
            "min_width": null,
            "border": null,
            "align_items": null,
            "bottom": null,
            "_model_module": "@jupyter-widgets/base",
            "top": null,
            "grid_column": null,
            "overflow_y": null,
            "overflow_x": null,
            "grid_auto_flow": null,
            "grid_area": null,
            "grid_template_columns": null,
            "flex": null,
            "_model_name": "LayoutModel",
            "justify_items": null,
            "grid_row": null,
            "max_height": null,
            "align_content": null,
            "visibility": null,
            "align_self": null,
            "height": null,
            "min_height": null,
            "padding": null,
            "grid_auto_rows": null,
            "grid_gap": null,
            "max_width": null,
            "order": null,
            "_view_module_version": "1.2.0",
            "grid_template_areas": null,
            "object_position": null,
            "object_fit": null,
            "grid_auto_columns": null,
            "margin": null,
            "display": null,
            "left": null
          }
        },
        "0a51b04f8f8845aeb0f1779170ace84d": {
          "model_module": "@jupyter-widgets/controls",
          "model_name": "DescriptionStyleModel",
          "state": {
            "_view_name": "StyleView",
            "_model_name": "DescriptionStyleModel",
            "description_width": "",
            "_view_module": "@jupyter-widgets/base",
            "_model_module_version": "1.5.0",
            "_view_count": null,
            "_view_module_version": "1.2.0",
            "_model_module": "@jupyter-widgets/controls"
          }
        },
        "b8f8a3fb71af4f2e9b8b5c8e11fe8224": {
          "model_module": "@jupyter-widgets/base",
          "model_name": "LayoutModel",
          "state": {
            "_view_name": "LayoutView",
            "grid_template_rows": null,
            "right": null,
            "justify_content": null,
            "_view_module": "@jupyter-widgets/base",
            "overflow": null,
            "_model_module_version": "1.2.0",
            "_view_count": null,
            "flex_flow": null,
            "width": null,
            "min_width": null,
            "border": null,
            "align_items": null,
            "bottom": null,
            "_model_module": "@jupyter-widgets/base",
            "top": null,
            "grid_column": null,
            "overflow_y": null,
            "overflow_x": null,
            "grid_auto_flow": null,
            "grid_area": null,
            "grid_template_columns": null,
            "flex": null,
            "_model_name": "LayoutModel",
            "justify_items": null,
            "grid_row": null,
            "max_height": null,
            "align_content": null,
            "visibility": null,
            "align_self": null,
            "height": null,
            "min_height": null,
            "padding": null,
            "grid_auto_rows": null,
            "grid_gap": null,
            "max_width": null,
            "order": null,
            "_view_module_version": "1.2.0",
            "grid_template_areas": null,
            "object_position": null,
            "object_fit": null,
            "grid_auto_columns": null,
            "margin": null,
            "display": null,
            "left": null
          }
        },
        "3b863729dedd419b970a357816786f5f": {
          "model_module": "@jupyter-widgets/controls",
          "model_name": "HBoxModel",
          "state": {
            "_view_name": "HBoxView",
            "_dom_classes": [],
            "_model_name": "HBoxModel",
            "_view_module": "@jupyter-widgets/controls",
            "_model_module_version": "1.5.0",
            "_view_count": null,
            "_view_module_version": "1.5.0",
            "box_style": "",
            "layout": "IPY_MODEL_2bbb7cf737584b4bac373772d97ed2f1",
            "_model_module": "@jupyter-widgets/controls",
            "children": [
              "IPY_MODEL_f1a4c3ee992941a080bb9bc592486242",
              "IPY_MODEL_ba220da90e6e48978c5ca3c806b62c30"
            ]
          }
        },
        "2bbb7cf737584b4bac373772d97ed2f1": {
          "model_module": "@jupyter-widgets/base",
          "model_name": "LayoutModel",
          "state": {
            "_view_name": "LayoutView",
            "grid_template_rows": null,
            "right": null,
            "justify_content": null,
            "_view_module": "@jupyter-widgets/base",
            "overflow": null,
            "_model_module_version": "1.2.0",
            "_view_count": null,
            "flex_flow": null,
            "width": null,
            "min_width": null,
            "border": null,
            "align_items": null,
            "bottom": null,
            "_model_module": "@jupyter-widgets/base",
            "top": null,
            "grid_column": null,
            "overflow_y": null,
            "overflow_x": null,
            "grid_auto_flow": null,
            "grid_area": null,
            "grid_template_columns": null,
            "flex": null,
            "_model_name": "LayoutModel",
            "justify_items": null,
            "grid_row": null,
            "max_height": null,
            "align_content": null,
            "visibility": null,
            "align_self": null,
            "height": null,
            "min_height": null,
            "padding": null,
            "grid_auto_rows": null,
            "grid_gap": null,
            "max_width": null,
            "order": null,
            "_view_module_version": "1.2.0",
            "grid_template_areas": null,
            "object_position": null,
            "object_fit": null,
            "grid_auto_columns": null,
            "margin": null,
            "display": null,
            "left": null
          }
        },
        "f1a4c3ee992941a080bb9bc592486242": {
          "model_module": "@jupyter-widgets/controls",
          "model_name": "IntProgressModel",
          "state": {
            "_view_name": "ProgressView",
            "style": "IPY_MODEL_0d69e341002141a1906ad8d2899fde4c",
            "_dom_classes": [],
            "description": "",
            "_model_name": "IntProgressModel",
            "bar_style": "success",
            "max": 1,
            "_view_module": "@jupyter-widgets/controls",
            "_model_module_version": "1.5.0",
            "value": 1,
            "_view_count": null,
            "_view_module_version": "1.5.0",
            "orientation": "horizontal",
            "min": 0,
            "description_tooltip": null,
            "_model_module": "@jupyter-widgets/controls",
            "layout": "IPY_MODEL_6700b3a7000b444c99e4069463f52893"
          }
        },
        "ba220da90e6e48978c5ca3c806b62c30": {
          "model_module": "@jupyter-widgets/controls",
          "model_name": "HTMLModel",
          "state": {
            "_view_name": "HTMLView",
            "style": "IPY_MODEL_ec8b4dd34fc141b18bc891f048b1b918",
            "_dom_classes": [],
            "description": "",
            "_model_name": "HTMLModel",
            "placeholder": "​",
            "_view_module": "@jupyter-widgets/controls",
            "_model_module_version": "1.5.0",
            "value": "8192it [00:00, 25125.71it/s]",
            "_view_count": null,
            "_view_module_version": "1.5.0",
            "description_tooltip": null,
            "_model_module": "@jupyter-widgets/controls",
            "layout": "IPY_MODEL_e481d87c23e049cc9ce5ce25dc6413f3"
          }
        },
        "0d69e341002141a1906ad8d2899fde4c": {
          "model_module": "@jupyter-widgets/controls",
          "model_name": "ProgressStyleModel",
          "state": {
            "_view_name": "StyleView",
            "_model_name": "ProgressStyleModel",
            "description_width": "",
            "_view_module": "@jupyter-widgets/base",
            "_model_module_version": "1.5.0",
            "_view_count": null,
            "_view_module_version": "1.2.0",
            "bar_color": null,
            "_model_module": "@jupyter-widgets/controls"
          }
        },
        "6700b3a7000b444c99e4069463f52893": {
          "model_module": "@jupyter-widgets/base",
          "model_name": "LayoutModel",
          "state": {
            "_view_name": "LayoutView",
            "grid_template_rows": null,
            "right": null,
            "justify_content": null,
            "_view_module": "@jupyter-widgets/base",
            "overflow": null,
            "_model_module_version": "1.2.0",
            "_view_count": null,
            "flex_flow": null,
            "width": null,
            "min_width": null,
            "border": null,
            "align_items": null,
            "bottom": null,
            "_model_module": "@jupyter-widgets/base",
            "top": null,
            "grid_column": null,
            "overflow_y": null,
            "overflow_x": null,
            "grid_auto_flow": null,
            "grid_area": null,
            "grid_template_columns": null,
            "flex": null,
            "_model_name": "LayoutModel",
            "justify_items": null,
            "grid_row": null,
            "max_height": null,
            "align_content": null,
            "visibility": null,
            "align_self": null,
            "height": null,
            "min_height": null,
            "padding": null,
            "grid_auto_rows": null,
            "grid_gap": null,
            "max_width": null,
            "order": null,
            "_view_module_version": "1.2.0",
            "grid_template_areas": null,
            "object_position": null,
            "object_fit": null,
            "grid_auto_columns": null,
            "margin": null,
            "display": null,
            "left": null
          }
        },
        "ec8b4dd34fc141b18bc891f048b1b918": {
          "model_module": "@jupyter-widgets/controls",
          "model_name": "DescriptionStyleModel",
          "state": {
            "_view_name": "StyleView",
            "_model_name": "DescriptionStyleModel",
            "description_width": "",
            "_view_module": "@jupyter-widgets/base",
            "_model_module_version": "1.5.0",
            "_view_count": null,
            "_view_module_version": "1.2.0",
            "_model_module": "@jupyter-widgets/controls"
          }
        },
        "e481d87c23e049cc9ce5ce25dc6413f3": {
          "model_module": "@jupyter-widgets/base",
          "model_name": "LayoutModel",
          "state": {
            "_view_name": "LayoutView",
            "grid_template_rows": null,
            "right": null,
            "justify_content": null,
            "_view_module": "@jupyter-widgets/base",
            "overflow": null,
            "_model_module_version": "1.2.0",
            "_view_count": null,
            "flex_flow": null,
            "width": null,
            "min_width": null,
            "border": null,
            "align_items": null,
            "bottom": null,
            "_model_module": "@jupyter-widgets/base",
            "top": null,
            "grid_column": null,
            "overflow_y": null,
            "overflow_x": null,
            "grid_auto_flow": null,
            "grid_area": null,
            "grid_template_columns": null,
            "flex": null,
            "_model_name": "LayoutModel",
            "justify_items": null,
            "grid_row": null,
            "max_height": null,
            "align_content": null,
            "visibility": null,
            "align_self": null,
            "height": null,
            "min_height": null,
            "padding": null,
            "grid_auto_rows": null,
            "grid_gap": null,
            "max_width": null,
            "order": null,
            "_view_module_version": "1.2.0",
            "grid_template_areas": null,
            "object_position": null,
            "object_fit": null,
            "grid_auto_columns": null,
            "margin": null,
            "display": null,
            "left": null
          }
        }
      }
    }
  },
  "cells": [
    {
      "cell_type": "markdown",
      "metadata": {
        "id": "b7IYU0Bqomb2",
        "colab_type": "text"
      },
      "source": [
        "# Training a MNIST classifier\n",
        "\n",
        "This tutorial introduces the [norse](norse.ai) library by going through the \"Hello World\" of deep-learning: How to classify hand-written digits. Norse is based on the popular pytorch deep-learning library and this is in fact the only requirement you need to build your own models with it."
      ]
    },
    {
      "cell_type": "code",
      "metadata": {
        "id": "wu93JGgT2CJ2",
        "colab_type": "code",
        "colab": {}
      },
      "source": [
        "import torch\n",
        "import numpy as np\n",
        "import matplotlib.pyplot as plt"
      ],
      "execution_count": 0,
      "outputs": []
    },
    {
      "cell_type": "markdown",
      "metadata": {
        "id": "9rmUJSdzqypr",
        "colab_type": "text"
      },
      "source": [
        "It can be installed directly from its github repository, which for now is the recommended way of using the library, since it still is changing rather quickly."
      ]
    },
    {
      "cell_type": "code",
      "metadata": {
        "id": "DPb7tCeX2Jkb",
        "colab_type": "code",
        "outputId": "cd39f4b4-ef34-468b-90ce-b31a95ccc8b7",
        "colab": {
          "base_uri": "https://localhost:8080/",
          "height": 34
        }
      },
      "source": [
        "!pip install -qU git+https://github.com/norse/norse"
      ],
      "execution_count": 0,
      "outputs": [
        {
          "output_type": "stream",
          "text": [
            "  Building wheel for norse (setup.py) ... \u001b[?25l\u001b[?25hdone\n"
          ],
          "name": "stdout"
        }
      ]
    },
    {
      "cell_type": "markdown",
      "metadata": {
        "id": "YrZ71gW94b1O",
        "colab_type": "text"
      },
      "source": [
        "## Integrating point neuron model equations\n",
        "\n",
        "Spiking neuron models are given as (typically very simple) systems of ordinary differential\n",
        "equations. A common example used is the so called current based leaky integrate and fire neuron model (LIF). Its differential equation is given by\n",
        "\\begin{align*}\n",
        "\\dot{v} &= -(v - v_\\text{reset}) + I \\\\\n",
        "\\dot{I} &= -I + I_\\text{in}\n",
        "\\end{align*}\n",
        "together with jump and transition equations, that specify when a jump occurs and\n",
        "how the state variables change. A prototypical equation is a leaky integrator\n",
        "with constant current input $I_\\text{in}$, with jump condition $v - 1 = 0$ and transition equation $v^+ - v^- = -1$.\n"
      ]
    },
    {
      "cell_type": "code",
      "metadata": {
        "id": "ZzPRyc8E2M8a",
        "colab_type": "code",
        "outputId": "fb5fccd9-1c2f-474e-cbd3-7fef91c56afc",
        "colab": {
          "base_uri": "https://localhost:8080/",
          "height": 279
        }
      },
      "source": [
        "from norse.torch.functional.lif import lif_step, lif_feed_forward_step, lif_current_encoder, LIFParameters\n",
        "\n",
        "N = 1 # number of neurons to consider\n",
        "T = 100 # number of timesteps to integrate\n",
        "\n",
        "p = LIFParameters()\n",
        "v = torch.zeros(N) # initial membrane voltage\n",
        "input_current = 1.1 * torch.ones(N)\n",
        "\n",
        "voltages = []\n",
        "\n",
        "for ts in range(T):\n",
        "  z, v = lif_current_encoder(input_current, v, p)\n",
        "  voltages.append(v)\n",
        "\n",
        "voltages = torch.stack(voltages)\n",
        "\n",
        "plt.ylabel(\"v\")\n",
        "plt.xlabel(\"time [ms]\")\n",
        "plt.plot(voltages)\n",
        "plt.show()"
      ],
      "execution_count": 0,
      "outputs": [
        {
          "output_type": "display_data",
          "data": {
            "image/png": "[encoded data removed]",
            "text/plain": [
              "<Figure size 432x288 with 1 Axes>"
            ]
          },
          "metadata": {
            "tags": []
          }
        }
      ]
    },
    {
      "cell_type": "markdown",
      "metadata": {
        "id": "MOYVGOvhrDty",
        "colab_type": "text"
      },
      "source": [
        "## MNIST dataset\n",
        "\n",
        "A common toy dataset to test machine learning approaches on is the MNIST handwritten digit recognition dataset. The goal is to distinguish handwritten digits 0..9 based on a 28x28 grayscale picture."
      ]
    },
    {
      "cell_type": "code",
      "metadata": {
        "id": "RPs81D-QrFWV",
        "colab_type": "code",
        "outputId": "488e74c4-d6a0-43a1-b115-6b98ee50743e",
        "colab": {
          "base_uri": "https://localhost:8080/",
          "height": 388,
          "referenced_widgets": [
            "d7b7038b45c945d699d0255da2c309d6",
            "0d9f549f588e4f78869954ab3190bda6",
            "dbfbc107485a471c8c10cc3a0399f74e",
            "fde447063f8e41a2bb1d8940b22cbca2",
            "6ea4177e51ee40728468fb609058cb7b",
            "0b219fee387f488686d5ff7bc8458648",
            "d3ef709469294f52af88b4d66094ba81",
            "582e6e7e7f43442fb6e0d6b5c5105670",
            "c2bd3626f34943979b23a5cc98b01b0c",
            "1cec0bce85214620924abe2e4aa0d08b",
            "e9ba974f52d546f9b966eb7a0a995bc0",
            "cf8f425480784af5bac50188ab03480a",
            "61dd6632930440429a60b40c5c1a1802",
            "ad2843733fc044d9bee420888999c443",
            "7f2ef0b859ed4c3190d81b11c062b0c2",
            "da80b7d5ff124d36830d8aae0f4ea7e8",
            "68374b98bd6c406d96ed9b594fb72a05",
            "68572416f5eb43d1bc61ab282907fa2a",
            "f3995c1d9cc34fd9a77e68bfebf8884d",
            "44399f1ad55a4409ad23f6b4052d8c31",
            "67cb0fee87d04374ac6c66cf105051fc",
            "7cc4909d775a47c1a0b6ddce24bcd258",
            "0a51b04f8f8845aeb0f1779170ace84d",
            "b8f8a3fb71af4f2e9b8b5c8e11fe8224",
            "3b863729dedd419b970a357816786f5f",
            "2bbb7cf737584b4bac373772d97ed2f1",
            "f1a4c3ee992941a080bb9bc592486242",
            "ba220da90e6e48978c5ca3c806b62c30",
            "0d69e341002141a1906ad8d2899fde4c",
            "6700b3a7000b444c99e4069463f52893",
            "ec8b4dd34fc141b18bc891f048b1b918",
            "e481d87c23e049cc9ce5ce25dc6413f3"
          ]
        }
      },
      "source": [
        "import torchvision\n",
        "\n",
        "BATCH_SIZE = 256\n",
        "\n",
        "transform = torchvision.transforms.Compose(\n",
        "    [\n",
        "        torchvision.transforms.ToTensor(),\n",
        "        torchvision.transforms.Normalize((0.1307,), (0.3081,)),\n",
        "    ]\n",
        ")\n",
        "\n",
        "train_data = torchvision.datasets.MNIST(\n",
        "    root=\".\",\n",
        "    train=True,\n",
        "    download=True,\n",
        "    transform=transform,\n",
        ")\n",
        "\n",
        "train_loader = torch.utils.data.DataLoader(\n",
        "    train_data,\n",
        "    batch_size=BATCH_SIZE,\n",
        "    shuffle=True\n",
        ")\n",
        "\n",
        "test_loader = torch.utils.data.DataLoader(\n",
        "    torchvision.datasets.MNIST(\n",
        "        root=\".\",\n",
        "        train=False,\n",
        "        transform=transform,\n",
        "    ),\n",
        "    batch_size=BATCH_SIZE\n",
        ")"
      ],
      "execution_count": 0,
      "outputs": [
        {
          "output_type": "stream",
          "text": [
            "Downloading http://yann.lecun.com/exdb/mnist/train-images-idx3-ubyte.gz to ./MNIST/raw/train-images-idx3-ubyte.gz\n"
          ],
          "name": "stdout"
        },
        {
          "output_type": "display_data",
          "data": {
            "application/vnd.jupyter.widget-view+json": {
              "model_id": "d7b7038b45c945d699d0255da2c309d6",
              "version_minor": 0,
              "version_major": 2
            },
            "text/plain": [
              "HBox(children=(IntProgress(value=1, bar_style='info', max=1), HTML(value='')))"
            ]
          },
          "metadata": {
            "tags": []
          }
        },
        {
          "output_type": "stream",
          "text": [
            "\n",
            "Extracting ./MNIST/raw/train-images-idx3-ubyte.gz to ./MNIST/raw\n",
            "Downloading http://yann.lecun.com/exdb/mnist/train-labels-idx1-ubyte.gz to ./MNIST/raw/train-labels-idx1-ubyte.gz\n"
          ],
          "name": "stdout"
        },
        {
          "output_type": "display_data",
          "data": {
            "application/vnd.jupyter.widget-view+json": {
              "model_id": "c2bd3626f34943979b23a5cc98b01b0c",
              "version_minor": 0,
              "version_major": 2
            },
            "text/plain": [
              "HBox(children=(IntProgress(value=1, bar_style='info', max=1), HTML(value='')))"
            ]
          },
          "metadata": {
            "tags": []
          }
        },
        {
          "output_type": "stream",
          "text": [
            "\n",
            "Extracting ./MNIST/raw/train-labels-idx1-ubyte.gz to ./MNIST/raw\n",
            "Downloading http://yann.lecun.com/exdb/mnist/t10k-images-idx3-ubyte.gz to ./MNIST/raw/t10k-images-idx3-ubyte.gz\n"
          ],
          "name": "stdout"
        },
        {
          "output_type": "display_data",
          "data": {
            "application/vnd.jupyter.widget-view+json": {
              "model_id": "68374b98bd6c406d96ed9b594fb72a05",
              "version_minor": 0,
              "version_major": 2
            },
            "text/plain": [
              "HBox(children=(IntProgress(value=1, bar_style='info', max=1), HTML(value='')))"
            ]
          },
          "metadata": {
            "tags": []
          }
        },
        {
          "output_type": "stream",
          "text": [
            "\n",
            "Extracting ./MNIST/raw/t10k-images-idx3-ubyte.gz to ./MNIST/raw\n",
            "Downloading http://yann.lecun.com/exdb/mnist/t10k-labels-idx1-ubyte.gz to ./MNIST/raw/t10k-labels-idx1-ubyte.gz\n"
          ],
          "name": "stdout"
        },
        {
          "output_type": "display_data",
          "data": {
            "application/vnd.jupyter.widget-view+json": {
              "model_id": "3b863729dedd419b970a357816786f5f",
              "version_minor": 0,
              "version_major": 2
            },
            "text/plain": [
              "HBox(children=(IntProgress(value=1, bar_style='info', max=1), HTML(value='')))"
            ]
          },
          "metadata": {
            "tags": []
          }
        },
        {
          "output_type": "stream",
          "text": [
            "\n",
            "Extracting ./MNIST/raw/t10k-labels-idx1-ubyte.gz to ./MNIST/raw\n",
            "Processing...\n",
            "Done!\n"
          ],
          "name": "stdout"
        }
      ]
    },
    {
      "cell_type": "markdown",
      "metadata": {
        "id": "c_STHa4ethi4",
        "colab_type": "text"
      },
      "source": [
        "## Encoding Input Data\n",
        "\n",
        "One of the distinguishing features of spiking neural networks is that they\n",
        "operate on temporal data encoded as spikes. Common datasets in machine learning\n",
        "of course don't use such an encoding and therefore make a encoding step necessary. Here we choose to treat the grayscale value of an MNIST image\n",
        "as a constant current to produce input spikes to the rest of the network.\n",
        "Another option would be to interpret the grayscale value as a spike probabilty\n",
        "at each timestep.\n"
      ]
    },
    {
      "cell_type": "markdown",
      "metadata": {
        "id": "pVYrXB00-fqO",
        "colab_type": "text"
      },
      "source": [
        "### Constant Current Encoder"
      ]
    },
    {
      "cell_type": "code",
      "metadata": {
        "id": "BHwqgEFvZaoQ",
        "colab_type": "code",
        "colab": {}
      },
      "source": [
        "from norse.torch.module.lif import LIFConstantCurrentEncoder\n",
        "\n",
        "class Encoder(torch.nn.Module):\n",
        "    def __init__(self, seq_length, device, scale=1.0, p=LIFParameters()):\n",
        "        super(Encoder, self).__init__()\n",
        "        self.constant_current_encoder = LIFConstantCurrentEncoder(\n",
        "            seq_length=seq_length, device=device, p=p\n",
        "        )\n",
        "        self.scale = scale\n",
        "\n",
        "    def forward(self, x):\n",
        "        _, x = self.constant_current_encoder(self.scale * x)\n",
        "        return x"
      ],
      "execution_count": 0,
      "outputs": []
    },
    {
      "cell_type": "markdown",
      "metadata": {
        "id": "EHH7pA86l_nL",
        "colab_type": "text"
      },
      "source": [
        "We can easily visualise the effect of this choice of encoding on a sample image in the training data set"
      ]
    },
    {
      "cell_type": "code",
      "metadata": {
        "id": "cbYBEbBsTNam",
        "colab_type": "code",
        "outputId": "b907b059-caef-4961-e044-5632e50307db",
        "colab": {
          "base_uri": "https://localhost:8080/",
          "height": 292
        }
      },
      "source": [
        "img, label = train_data[1]\n",
        "\n",
        "plt.matshow(img[0])\n",
        "print(label)"
      ],
      "execution_count": 0,
      "outputs": [
        {
          "output_type": "stream",
          "text": [
            "0\n"
          ],
          "name": "stdout"
        },
        {
          "output_type": "display_data",
          "data": {
            "image/png": "[encoded data removed]",
            "text/plain": [
              "<Figure size 288x288 with 1 Axes>"
            ]
          },
          "metadata": {
            "tags": []
          }
        }
      ]
    },
    {
      "cell_type": "code",
      "metadata": {
        "id": "FWAPfbM7T6lM",
        "colab_type": "code",
        "outputId": "ec98f7f5-c874-4a16-d107-8fd4f40138a4",
        "colab": {
          "base_uri": "https://localhost:8080/",
          "height": 279
        }
      },
      "source": [
        "T = 32\n",
        "example_encoder = Encoder(T, \"cpu\")\n",
        "\n",
        "\n",
        "example_input = example_encoder(img)\n",
        "example_spikes = example_input.reshape(T,28*28).to_sparse().coalesce()\n",
        "t = example_spikes.indices()[0]\n",
        "n = example_spikes.indices()[1]\n",
        "\n",
        "plt.scatter(t, n, marker='|', color='black')\n",
        "plt.ylabel('Input Unit')\n",
        "plt.xlabel('Time [ms]')\n",
        "plt.show()"
      ],
      "execution_count": 0,
      "outputs": [
        {
          "output_type": "display_data",
          "data": {
            "image/png": "[encoded data removed]",
            "text/plain": [
              "<Figure size 432x288 with 1 Axes>"
            ]
          },
          "metadata": {
            "tags": []
          }
        }
      ]
    },
    {
      "cell_type": "markdown",
      "metadata": {
        "id": "Ouwn94PQipIw",
        "colab_type": "text"
      },
      "source": [
        "### Poisson Encoding\n",
        "\n",
        "As can be seen from the spike raster plot, this kind of encoding does not produce spike patterns which are necessarily biologically realistic. We could rectify this situation by employing cells with varying threshholds and a finer integration time step. Alternatively we can encode the grayscale input images into poisson spike trains\n",
        "\n",
        "\n"
      ]
    },
    {
      "cell_type": "code",
      "metadata": {
        "id": "7hqWN47egmir",
        "colab_type": "code",
        "colab": {}
      },
      "source": [
        "class PoissonEncoder(torch.nn.Module):\n",
        "    def __init__(self, seq_length, device, rel_fmax=0.2):\n",
        "        super(PoissonEncoder, self).__init__()\n",
        "        self.seq_length = seq_length\n",
        "        self.rel_fmax = rel_fmax\n",
        "        self.device = device\n",
        "\n",
        "    def forward(self, x):  \n",
        "      return (\n",
        "          torch.rand(self.seq_length, *x.shape).float().to(self.device) < self.rel_fmax * x\n",
        "      ).float()"
      ],
      "execution_count": 0,
      "outputs": []
    },
    {
      "cell_type": "markdown",
      "metadata": {
        "id": "sOlfpqnBjIrE",
        "colab_type": "text"
      },
      "source": [
        "This produces a more biological plausible input pattern, as can be seen below:"
      ]
    },
    {
      "cell_type": "code",
      "metadata": {
        "id": "u74m9sishnkF",
        "colab_type": "code",
        "outputId": "5d7b3780-1320-4a4e-a644-ed8c6b704b36",
        "colab": {
          "base_uri": "https://localhost:8080/",
          "height": 279
        }
      },
      "source": [
        "T = 32\n",
        "example_encoder = PoissonEncoder(T, \"cpu\", rel_fmax=0.02)\n",
        "\n",
        "\n",
        "example_input = example_encoder(img)\n",
        "example_spikes = example_input.reshape(T,28*28).to_sparse().coalesce()\n",
        "t = example_spikes.indices()[0]\n",
        "n = example_spikes.indices()[1]\n",
        "\n",
        "plt.scatter(t, n, marker='|', color='black')\n",
        "plt.ylabel('Input Unit')\n",
        "plt.xlabel('Time [ms]')\n",
        "plt.show()"
      ],
      "execution_count": 0,
      "outputs": [
        {
          "output_type": "display_data",
          "data": {
            "image/png": "[encoded data removed]",
            "text/plain": [
              "<Figure size 432x288 with 1 Axes>"
            ]
          },
          "metadata": {
            "tags": []
          }
        }
      ]
    },
    {
      "cell_type": "markdown",
      "metadata": {
        "id": "Z9QNqiwIx3HH",
        "colab_type": "text"
      },
      "source": [
        "### Spike Latency Encoding\n",
        "\n",
        "Yet another example is a spike latency encoder. In this case each input neuron spikes only once, the first time the input crosses the threshhold."
      ]
    },
    {
      "cell_type": "code",
      "metadata": {
        "id": "trq4AeDTyKNu",
        "colab_type": "code",
        "colab": {}
      },
      "source": [
        "from norse.torch.functional.lif import lif_current_encoder\n",
        "\n",
        "class SpikeLatencyEncoder(torch.nn.Module):\n",
        "    def __init__(self, seq_length, device, scale=1.0, p=LIFParameters()):\n",
        "        super(SpikeLatencyEncoder, self).__init__()\n",
        "        self.scale = scale\n",
        "        self.seq_length = seq_length\n",
        "        self.device = device\n",
        "        self.p = p\n",
        "\n",
        "    def forward(self, x):\n",
        "        v = torch.zeros_like(x)\n",
        "        z = torch.zeros_like(x)\n",
        "        mask = torch.zeros_like(x).byte()\n",
        "        spikes = torch.zeros(self.seq_length,\\\n",
        " *x.shape, device=self.device)\n",
        "        \n",
        "        p = LIFParameters(\n",
        "            v_th = 1.0 + 0.2 * torch.randn(*x.shape)\n",
        "        )\n",
        "        for ts in range(self.seq_length):\n",
        "            z, v = lif_current_encoder(\n",
        "                input_current=x,\n",
        "                v=v,\n",
        "\t              p=p,\n",
        "                dt=0.001\n",
        "\t          )\n",
        "\n",
        "            spikes[ts, :, :] = torch.where(mask, torch.zeros_like(z), z)\n",
        "            mask[z.bool()] = 1\n",
        "\n",
        "        return spikes"
      ],
      "execution_count": 0,
      "outputs": []
    },
    {
      "cell_type": "code",
      "metadata": {
        "id": "JvqFTcvZzfpS",
        "colab_type": "code",
        "outputId": "4206c20f-2d79-4bbe-d42d-46b6ead56bd2",
        "colab": {
          "base_uri": "https://localhost:8080/",
          "height": 279
        }
      },
      "source": [
        "T = 32\n",
        "example_encoder = SpikeLatencyEncoder(T, \"cpu\", scale=1.0)\n",
        "\n",
        "\n",
        "example_input = example_encoder(img)\n",
        "example_spikes = example_input.reshape(T,28*28).to_sparse().coalesce()\n",
        "t = example_spikes.indices()[0]\n",
        "n = example_spikes.indices()[1]\n",
        "\n",
        "plt.scatter(t, n, marker='|', color='black')\n",
        "plt.ylabel('Input Unit')\n",
        "plt.xlabel('Time [ms]')\n",
        "plt.show()"
      ],
      "execution_count": 0,
      "outputs": [
        {
          "output_type": "display_data",
          "data": {
            "image/png": "[encoded data removed]",
            "text/plain": [
              "<Figure size 432x288 with 1 Axes>"
            ]
          },
          "metadata": {
            "tags": []
          }
        }
      ]
    },
    {
      "cell_type": "markdown",
      "metadata": {
        "id": "cNEqcSNH2WfP",
        "colab_type": "text"
      },
      "source": [
        "## Defining a Network\n",
        "\n",
        "Once the data is encoded into spikes, a spiking neural network can be constructed in the same way as a one would construct a recurrent neural network.\n",
        "Here we define a spiking neural network with one recurrently connected layer\n",
        "with `hidden_features` LIF neurons and a readout layer with `output_features` and leaky-integrators. As you can see, we can freely combine spiking neural network primitives with ordinary `torch.nn.Module` layers."
      ]
    },
    {
      "cell_type": "code",
      "metadata": {
        "id": "qN9Sm4rJtgc7",
        "colab_type": "code",
        "colab": {}
      },
      "source": [
        "from norse.torch.module.lif import LIFCell, LIFParameters, LIFFeedForwardCell\n",
        "from norse.torch.module.leaky_integrator import LIFeedForwardCell\n",
        "\n",
        "from norse.torch.functional.lif import LIFState\n",
        "from norse.torch.functional.leaky_integrator import LIState\n",
        "\n",
        "from typing import NamedTuple\n",
        "\n",
        "class SNNState(NamedTuple):\n",
        "    lif0 : LIFState\n",
        "    readout : LIState\n",
        "\n",
        "\n",
        "class SNN(torch.nn.Module):\n",
        "    def __init__(self, input_features, hidden_features, output_features, record=False, dt=0.001):\n",
        "        super(SNN, self).__init__()\n",
        "        self.l1 = LIFCell(\n",
        "            input_features,\n",
        "            hidden_features,\n",
        "            p=LIFParameters(alpha=100, v_th=0.5),\n",
        "            dt=dt                     \n",
        "        )\n",
        "        self.input_features = input_features\n",
        "        self.fc_out = torch.nn.Linear(hidden_features, output_features, bias=False)\n",
        "        self.out = LIFeedForwardCell(shape=(output_features,), dt=dt)\n",
        "\n",
        "        self.hidden_features = hidden_features\n",
        "        self.output_features = output_features\n",
        "        self.record = record\n",
        "        \n",
        "\n",
        "        \n",
        "    def forward(self, x):\n",
        "        seq_length, batch_size, _, _, _ = x.shape\n",
        "        s1 = self.l1.initial_state(batch_size, x.device, torch.float)\n",
        "        so = self.out.initial_state(batch_size, x.device)\n",
        "        voltages = []\n",
        "\n",
        "        if self.record:\n",
        "          self.recording = SNNState(\n",
        "              LIFState(\n",
        "                z = torch.zeros(seq_length, batch_size, self.hidden_features),\n",
        "                v = torch.zeros(seq_length, batch_size, self.hidden_features),\n",
        "                i = torch.zeros(seq_length, batch_size, self.hidden_features)\n",
        "              ),\n",
        "              LIState(\n",
        "                v = torch.zeros(seq_length, batch_size, self.output_features),\n",
        "                i = torch.zeros(seq_length, batch_size, self.output_features)\n",
        "              )\n",
        "          )\n",
        "\n",
        "        for ts in range(seq_length):\n",
        "            z = x[ts, :, :, :].view(-1, self.input_features)\n",
        "            z, s1 = self.l1(z, s1)\n",
        "            z = self.fc_out(z)\n",
        "            vo, so = self.out(z, so)\n",
        "            if self.record:\n",
        "              self.recording.lif0.z[ts,:] = s1.z\n",
        "              self.recording.lif0.v[ts,:] = s1.v\n",
        "              self.recording.lif0.i[ts,:] = s1.i\n",
        "              self.recording.readout.v[ts,:] = so.v\n",
        "              self.recording.readout.i[ts,:] = so.i\n",
        "            voltages += [vo]\n",
        "\n",
        "        return torch.stack(voltages)"
      ],
      "execution_count": 0,
      "outputs": []
    },
    {
      "cell_type": "markdown",
      "metadata": {
        "id": "yXzSK17BrmjT",
        "colab_type": "text"
      },
      "source": [
        "We can visualize the output produced by the recurrent spiking neural network on the example input."
      ]
    },
    {
      "cell_type": "code",
      "metadata": {
        "id": "nVq-2OD0pSnL",
        "colab_type": "code",
        "outputId": "1d123692-5949-4f67-fe38-c4709ac060ae",
        "colab": {
          "base_uri": "https://localhost:8080/",
          "height": 280
        }
      },
      "source": [
        "example_snn = SNN(28*28, 100, 10, record=True, dt=0.001)\n",
        "\n",
        "example_readout_voltages = example_snn(example_input.unsqueeze(1))\n",
        "plt.plot(example_readout_voltages.squeeze(1).detach().numpy())\n",
        "\n",
        "plt.ylabel('Voltage [a.u.]')\n",
        "plt.xlabel('Time [ms]')\n",
        "plt.show()"
      ],
      "execution_count": 0,
      "outputs": [
        {
          "output_type": "display_data",
          "data": {
            "image/png": "[encoded data removed]",
            "text/plain": [
              "<Figure size 432x288 with 1 Axes>"
            ]
          },
          "metadata": {
            "tags": []
          }
        }
      ]
    },
    {
      "cell_type": "code",
      "metadata": {
        "id": "dbLpIlYqtYJv",
        "colab_type": "code",
        "outputId": "aaeacb5a-96c4-4f10-8e8d-bac9425283ba",
        "colab": {
          "base_uri": "https://localhost:8080/",
          "height": 265
        }
      },
      "source": [
        "plt.plot(example_snn.recording.lif0.v.squeeze(1).detach().numpy())\n",
        "plt.show()"
      ],
      "execution_count": 0,
      "outputs": [
        {
          "output_type": "display_data",
          "data": {
            "image/png": "[encoded data removed]",
            "text/plain": [
              "<Figure size 432x288 with 1 Axes>"
            ]
          },
          "metadata": {
            "tags": []
          }
        }
      ]
    },
    {
      "cell_type": "code",
      "metadata": {
        "id": "pxK6Ds2Mt94j",
        "colab_type": "code",
        "outputId": "699ebf7e-72d0-466d-ae03-1ad1973fc767",
        "colab": {
          "base_uri": "https://localhost:8080/",
          "height": 265
        }
      },
      "source": [
        "plt.plot(example_snn.recording.lif0.i.squeeze(1).detach().numpy())\n",
        "plt.show()"
      ],
      "execution_count": 0,
      "outputs": [
        {
          "output_type": "display_data",
          "data": {
            "image/png": "[encoded data removed]",
            "text/plain": [
              "<Figure size 432x288 with 1 Axes>"
            ]
          },
          "metadata": {
            "tags": []
          }
        }
      ]
    },
    {
      "cell_type": "markdown",
      "metadata": {
        "id": "xq1mvp0ffIsI",
        "colab_type": "text"
      },
      "source": [
        "## Decoding the Output\n",
        "\n",
        "The output of the network we have defined are $10$ membrane voltage traces. What remains to do is to interpret those as a probabilty distribution. One way of doing so is to determine the maximum along the time dimension and to then compute the softmax of these values. There are other options of course, for example to consider\n",
        "the average membrane voltage in a given time window or use a LIF neuron output layer and consider the time to first spike."
      ]
    },
    {
      "cell_type": "code",
      "metadata": {
        "id": "6j0wbwEmfbIw",
        "colab_type": "code",
        "colab": {}
      },
      "source": [
        "def decode(x):\n",
        "    x, _ = torch.max(x, 0)\n",
        "    log_p_y = torch.nn.functional.log_softmax(x, dim=1)\n",
        "    return log_p_y"
      ],
      "execution_count": 0,
      "outputs": []
    },
    {
      "cell_type": "markdown",
      "metadata": {
        "id": "ngp3zr5AstiH",
        "colab_type": "text"
      },
      "source": [
        "An alternative way of decoding would be to consider only the membrane trace at the last measured time step."
      ]
    },
    {
      "cell_type": "code",
      "metadata": {
        "id": "0Idsu-fAjYdn",
        "colab_type": "code",
        "colab": {}
      },
      "source": [
        "def decode_last(x):\n",
        "    x = x[-1]\n",
        "    log_p_y = torch.nn.functional.log_softmax(x, dim=1)\n",
        "    return log_p_y"
      ],
      "execution_count": 0,
      "outputs": []
    },
    {
      "cell_type": "markdown",
      "metadata": {
        "id": "K1jcJ7LnrlUi",
        "colab_type": "text"
      },
      "source": [
        "## Training the Network\n",
        "\n",
        "The final model is then simply the sequential composition of these three steps: Encoding, a spiking neural network and decoding."
      ]
    },
    {
      "cell_type": "code",
      "metadata": {
        "id": "qRdRp3ZfAYIw",
        "colab_type": "code",
        "colab": {}
      },
      "source": [
        "class Model(torch.nn.Module):\n",
        "    def __init__(self, encoder, snn, decoder):\n",
        "        super(Model, self).__init__()\n",
        "        self.encoder = encoder\n",
        "        self.snn = snn\n",
        "        self.decoder = decoder\n",
        "\n",
        "    def forward(self, x):\n",
        "        x = self.encoder(x)\n",
        "        x = self.snn(x)\n",
        "        log_p_y = self.decoder(x)\n",
        "        return log_p_y"
      ],
      "execution_count": 0,
      "outputs": []
    },
    {
      "cell_type": "markdown",
      "metadata": {
        "id": "vqxyhc_5Xpfg",
        "colab_type": "text"
      },
      "source": [
        "We can then instantiate the model with the recurrent ```SNN``` network defined above."
      ]
    },
    {
      "cell_type": "code",
      "metadata": {
        "id": "C4QeDXL9_qaB",
        "colab_type": "code",
        "outputId": "dda9b3c4-a95f-4d4f-8473-e52fb5ba421a",
        "colab": {
          "base_uri": "https://localhost:8080/",
          "height": 211
        }
      },
      "source": [
        "T = 32\n",
        "DEVICE = torch.device(\"cuda\")\n",
        "LR = 0.002\n",
        "INPUT_FEATURES = 28*28\n",
        "HIDDEN_FEATURES = 100\n",
        "OUTPUT_FEATURES = 10\n",
        "\n",
        "model = Model(\n",
        "    encoder=Encoder(\n",
        "      device=DEVICE,\n",
        "      seq_length=T,\n",
        "    ),\n",
        "    snn=SNN(\n",
        "      input_features=INPUT_FEATURES,\n",
        "      hidden_features=HIDDEN_FEATURES,\n",
        "      output_features=OUTPUT_FEATURES\n",
        "    ),\n",
        "    decoder=decode\n",
        ").to(DEVICE)\n",
        "\n",
        "optimizer = torch.optim.Adam(model.p(), lr=LR)\n",
        "model"
      ],
      "execution_count": 0,
      "outputs": [
        {
          "output_type": "execute_result",
          "data": {
            "text/plain": [
              "Model(\n",
              "  (encoder): Encoder(\n",
              "    (constant_current_encoder): LIFConstantCurrentEncoder()\n",
              "  )\n",
              "  (snn): SNN(\n",
              "    (l1): LIFCell(784, 100, p=LIFParameters(tau_syn_inv=tensor(200.), tau_mem_inv=tensor(100.), v_leak=tensor(0.), v_th=tensor(1.), v_reset=tensor(0.), method='super', alpha=100), dt=0.001)\n",
              "    (fc_out): Linear(in_features=100, out_features=10, bias=False)\n",
              "    (out): LIFeedForwardCell()\n",
              "  )\n",
              ")"
            ]
          },
          "metadata": {
            "tags": []
          },
          "execution_count": 69
        }
      ]
    },
    {
      "cell_type": "markdown",
      "metadata": {
        "id": "rM5btRjKdEEv",
        "colab_type": "text"
      },
      "source": [
        "What remains to do is to setup training and test code. This code is completely independent of the fact that we are training a spiking neural network and in fact has been largely copied from the pytorch tutorials."
      ]
    },
    {
      "cell_type": "code",
      "metadata": {
        "id": "SXgntmL_rvHO",
        "colab_type": "code",
        "colab": {}
      },
      "source": [
        "from tqdm import tqdm\n",
        "\n",
        "LOG_INTERVAL = 10\n",
        "EPOCHS = 20\n",
        "\n",
        "def train(model, device, train_loader, optimizer, epoch, max_epochs):\n",
        "    model.train()\n",
        "    losses = []\n",
        "\n",
        "    for (data, target) in tqdm(train_loader, leave=True, position=0):\n",
        "        data, target = data.to(device), target.to(device)\n",
        "        optimizer.zero_grad()\n",
        "        output = model(data)\n",
        "        loss = torch.nn.functional.nll_loss(output, target)\n",
        "        loss.backward()\n",
        "        optimizer.step()\n",
        "        losses.append(loss.item())\n",
        "\n",
        "    mean_loss = np.mean(losses)\n",
        "    return losses, mean_loss"
      ],
      "execution_count": 0,
      "outputs": []
    },
    {
      "cell_type": "markdown",
      "metadata": {
        "id": "KtdcQi_18Xip",
        "colab_type": "text"
      },
      "source": [
        "Just like the training function, the test function is standard boilerplate, common with any other supervised learning task."
      ]
    },
    {
      "cell_type": "code",
      "metadata": {
        "id": "Gca4ZzatApWD",
        "colab_type": "code",
        "colab": {}
      },
      "source": [
        "def test(model, device, test_loader, epoch):\n",
        "    model.eval()\n",
        "    test_loss = 0\n",
        "    correct = 0\n",
        "    with torch.no_grad():\n",
        "        for data, target in test_loader:\n",
        "            data, target = data.to(device), target.to(device)\n",
        "            output = model(data)\n",
        "            test_loss += torch.nn.functional.nll_loss(\n",
        "                output, target, reduction=\"sum\"\n",
        "            ).item()  # sum up batch loss\n",
        "            pred = output.argmax(\n",
        "                dim=1, keepdim=True\n",
        "            )  # get the index of the max log-probability\n",
        "            correct += pred.eq(target.view_as(pred)).sum().item()\n",
        "\n",
        "    test_loss /= len(test_loader.dataset)\n",
        "\n",
        "    accuracy = 100.0 * correct / len(test_loader.dataset)\n",
        "\n",
        "    return test_loss, accuracy"
      ],
      "execution_count": 0,
      "outputs": []
    },
    {
      "cell_type": "markdown",
      "metadata": {
        "id": "r4sGruNn8w49",
        "colab_type": "text"
      },
      "source": [
        "As is the the outer training loop."
      ]
    },
    {
      "cell_type": "code",
      "metadata": {
        "id": "wU-b7Q8eBVca",
        "colab_type": "code",
        "outputId": "023af5fc-0eea-4dde-e44d-4cc7a163d88b",
        "colab": {
          "base_uri": "https://localhost:8080/",
          "height": 697
        }
      },
      "source": [
        "training_losses = []\n",
        "mean_losses = []\n",
        "test_losses = []\n",
        "accuracies = []\n",
        "\n",
        "for epoch in range(EPOCHS):\n",
        "    training_loss, mean_loss = train(model, DEVICE, train_loader, optimizer, epoch, max_epochs=EPOCHS)\n",
        "    test_loss, accuracy = test(model, DEVICE, test_loader, epoch)\n",
        "    training_losses += training_loss\n",
        "    mean_losses.append(mean_loss)\n",
        "    test_losses.append(test_loss)\n",
        "    accuracies.append(accuracy)       \n",
        "    print(f\"epoch: {epoch}, mean_loss: {mean_loss}, test_loss: {test_loss}, accuracy: {accuracy}\", flush=True)"
      ],
      "execution_count": 0,
      "outputs": [
        {
          "output_type": "stream",
          "text": [
            "100%|██████████| 235/235 [00:19<00:00, 12.55it/s]\n"
          ],
          "name": "stderr"
        },
        {
          "output_type": "stream",
          "text": [
            "epoch: 0, mean_loss: 0.6498513174183825, test_loss: 0.275965482378006, accuracy: 91.78\n"
          ],
          "name": "stdout"
        },
        {
          "output_type": "stream",
          "text": [
            "100%|██████████| 235/235 [00:19<00:00, 12.29it/s]\n"
          ],
          "name": "stderr"
        },
        {
          "output_type": "stream",
          "text": [
            "epoch: 1, mean_loss: 0.23877953531894278, test_loss: 0.20727662858963014, accuracy: 93.97\n"
          ],
          "name": "stdout"
        },
        {
          "output_type": "stream",
          "text": [
            "100%|██████████| 235/235 [00:19<00:00, 12.89it/s]\n"
          ],
          "name": "stderr"
        },
        {
          "output_type": "stream",
          "text": [
            "epoch: 2, mean_loss: 0.18458630106550583, test_loss: 0.18056601438522338, accuracy: 94.66\n"
          ],
          "name": "stdout"
        },
        {
          "output_type": "stream",
          "text": [
            "100%|██████████| 235/235 [00:19<00:00, 12.27it/s]\n"
          ],
          "name": "stderr"
        },
        {
          "output_type": "stream",
          "text": [
            "epoch: 3, mean_loss: 0.15542424784061756, test_loss: 0.1625740964412689, accuracy: 95.12\n"
          ],
          "name": "stdout"
        },
        {
          "output_type": "stream",
          "text": [
            "100%|██████████| 235/235 [00:19<00:00, 12.10it/s]\n"
          ],
          "name": "stderr"
        },
        {
          "output_type": "stream",
          "text": [
            "epoch: 4, mean_loss: 0.13636170654220783, test_loss: 0.14786854405403138, accuracy: 95.58\n"
          ],
          "name": "stdout"
        },
        {
          "output_type": "stream",
          "text": [
            "100%|██████████| 235/235 [00:19<00:00, 12.29it/s]\n"
          ],
          "name": "stderr"
        },
        {
          "output_type": "stream",
          "text": [
            "epoch: 5, mean_loss: 0.11936257646438923, test_loss: 0.13524692163467408, accuracy: 95.8\n"
          ],
          "name": "stdout"
        },
        {
          "output_type": "stream",
          "text": [
            "100%|██████████| 235/235 [00:18<00:00, 12.39it/s]\n"
          ],
          "name": "stderr"
        },
        {
          "output_type": "stream",
          "text": [
            "epoch: 6, mean_loss: 0.10885991531800716, test_loss: 0.12981821737289428, accuracy: 96.17\n"
          ],
          "name": "stdout"
        },
        {
          "output_type": "stream",
          "text": [
            "100%|██████████| 235/235 [00:19<00:00, 12.28it/s]\n"
          ],
          "name": "stderr"
        },
        {
          "output_type": "stream",
          "text": [
            "epoch: 7, mean_loss: 0.10260272661739207, test_loss: 0.13114091339111328, accuracy: 95.98\n"
          ],
          "name": "stdout"
        },
        {
          "output_type": "stream",
          "text": [
            "100%|██████████| 235/235 [00:19<00:00, 12.29it/s]\n"
          ],
          "name": "stderr"
        },
        {
          "output_type": "stream",
          "text": [
            "epoch: 8, mean_loss: 0.0916838563820149, test_loss: 0.13185154614448547, accuracy: 95.97\n"
          ],
          "name": "stdout"
        },
        {
          "output_type": "stream",
          "text": [
            "100%|██████████| 235/235 [00:19<00:00, 12.35it/s]\n"
          ],
          "name": "stderr"
        },
        {
          "output_type": "stream",
          "text": [
            "epoch: 9, mean_loss: 0.09063242362376223, test_loss: 0.12139517321586608, accuracy: 96.46\n"
          ],
          "name": "stdout"
        },
        {
          "output_type": "stream",
          "text": [
            "100%|██████████| 235/235 [00:19<00:00, 12.21it/s]\n"
          ],
          "name": "stderr"
        },
        {
          "output_type": "stream",
          "text": [
            "epoch: 10, mean_loss: 0.08106321774106076, test_loss: 0.1236857834815979, accuracy: 96.43\n"
          ],
          "name": "stdout"
        },
        {
          "output_type": "stream",
          "text": [
            "100%|██████████| 235/235 [00:19<00:00, 11.57it/s]\n"
          ],
          "name": "stderr"
        },
        {
          "output_type": "stream",
          "text": [
            "epoch: 11, mean_loss: 0.07310714175567982, test_loss: 0.12623179340362548, accuracy: 96.19\n"
          ],
          "name": "stdout"
        },
        {
          "output_type": "stream",
          "text": [
            "100%|██████████| 235/235 [00:19<00:00, 12.25it/s]\n"
          ],
          "name": "stderr"
        },
        {
          "output_type": "stream",
          "text": [
            "epoch: 12, mean_loss: 0.07668112765284295, test_loss: 0.12632748761177062, accuracy: 96.39\n"
          ],
          "name": "stdout"
        },
        {
          "output_type": "stream",
          "text": [
            "100%|██████████| 235/235 [00:20<00:00, 11.51it/s]\n"
          ],
          "name": "stderr"
        },
        {
          "output_type": "stream",
          "text": [
            "epoch: 13, mean_loss: 0.06789455527954913, test_loss: 0.12858043961524965, accuracy: 96.18\n"
          ],
          "name": "stdout"
        },
        {
          "output_type": "stream",
          "text": [
            "100%|██████████| 235/235 [00:19<00:00, 11.78it/s]\n"
          ],
          "name": "stderr"
        },
        {
          "output_type": "stream",
          "text": [
            "epoch: 14, mean_loss: 0.06537917864290958, test_loss: 0.13082137498855592, accuracy: 96.2\n"
          ],
          "name": "stdout"
        },
        {
          "output_type": "stream",
          "text": [
            "100%|██████████| 235/235 [00:20<00:00, 11.73it/s]\n"
          ],
          "name": "stderr"
        },
        {
          "output_type": "stream",
          "text": [
            "epoch: 15, mean_loss: 0.06112943515181542, test_loss: 0.11993292145729065, accuracy: 96.53\n"
          ],
          "name": "stdout"
        },
        {
          "output_type": "stream",
          "text": [
            "100%|██████████| 235/235 [00:19<00:00, 11.97it/s]\n"
          ],
          "name": "stderr"
        },
        {
          "output_type": "stream",
          "text": [
            "epoch: 16, mean_loss: 0.05894749755872057, test_loss: 0.12189418268203735, accuracy: 96.34\n"
          ],
          "name": "stdout"
        },
        {
          "output_type": "stream",
          "text": [
            "100%|██████████| 235/235 [00:19<00:00, 12.05it/s]\n"
          ],
          "name": "stderr"
        },
        {
          "output_type": "stream",
          "text": [
            "epoch: 17, mean_loss: 0.05531370326718117, test_loss: 0.12575372486114503, accuracy: 96.38\n"
          ],
          "name": "stdout"
        },
        {
          "output_type": "stream",
          "text": [
            "100%|██████████| 235/235 [00:19<00:00, 11.89it/s]\n"
          ],
          "name": "stderr"
        },
        {
          "output_type": "stream",
          "text": [
            "epoch: 18, mean_loss: 0.05284828012611004, test_loss: 0.12438068046569824, accuracy: 96.6\n"
          ],
          "name": "stdout"
        },
        {
          "output_type": "stream",
          "text": [
            "100%|██████████| 235/235 [00:19<00:00, 12.93it/s]\n"
          ],
          "name": "stderr"
        },
        {
          "output_type": "stream",
          "text": [
            "epoch: 19, mean_loss: 0.0515114251048641, test_loss: 0.13299525518417357, accuracy: 96.23\n"
          ],
          "name": "stdout"
        }
      ]
    },
    {
      "cell_type": "markdown",
      "metadata": {
        "id": "XKEVGF76x_Ee",
        "colab_type": "text"
      },
      "source": [
        "We can visualize the output of the trained network on an example input"
      ]
    },
    {
      "cell_type": "code",
      "metadata": {
        "id": "NL_rtLC2xXLp",
        "colab_type": "code",
        "outputId": "43093dac-77c7-4530-c639-f61413d5cf90",
        "colab": {
          "base_uri": "https://localhost:8080/",
          "height": 279
        }
      },
      "source": [
        "trained_snn = model.snn.cpu()\n",
        "\n",
        "trained_readout_voltages = trained_snn(example_input.unsqueeze(1))\n",
        "plt.plot(trained_readout_voltages.squeeze(1).detach().numpy())\n",
        "\n",
        "plt.ylabel('Voltage [a.u.]')\n",
        "plt.xlabel('Time [ms]')\n",
        "plt.show()"
      ],
      "execution_count": 0,
      "outputs": [
        {
          "output_type": "display_data",
          "data": {
            "image/png": "[encoded data removed]",
            "text/plain": [
              "<Figure size 432x288 with 1 Axes>"
            ]
          },
          "metadata": {
            "tags": []
          }
        }
      ]
    },
    {
      "cell_type": "markdown",
      "metadata": {
        "id": "RjaJS_Hj2qW4",
        "colab_type": "text"
      },
      "source": [
        "## Network with Spike Latency Encoding\n",
        "\n",
        "As we've mentioned above there are alternative ways of encoding and decoding the data to and from spikes. Here we go through two such alternative with the same network we've used before.\n"
      ]
    },
    {
      "cell_type": "code",
      "metadata": {
        "id": "k0mJvDZx2zRi",
        "colab_type": "code",
        "outputId": "c9e269a7-767f-4d8c-833d-fd5ecd8014d2",
        "colab": {
          "base_uri": "https://localhost:8080/",
          "height": 176
        }
      },
      "source": [
        "T = 72\n",
        "DEVICE = torch.device(\"cuda\")\n",
        "LR = 0.002\n",
        "INPUT_FEATURES = 28*28\n",
        "HIDDEN_FEATURES = 100\n",
        "OUTPUT_FEATURES = 10\n",
        "\n",
        "model = Model(\n",
        "    encoder=SpikeLatencyEncoder(T, DEVICE),\n",
        "    snn=SNN(\n",
        "      input_features=INPUT_FEATURES,\n",
        "      hidden_features=HIDDEN_FEATURES,\n",
        "      output_features=OUTPUT_FEATURES\n",
        "    ),\n",
        "    decoder=decode\n",
        ").to(DEVICE)\n",
        "\n",
        "optimizer = torch.optim.Adam(model.p(), lr=LR)\n",
        "model"
      ],
      "execution_count": 0,
      "outputs": [
        {
          "output_type": "execute_result",
          "data": {
            "text/plain": [
              "Model(\n",
              "  (encoder): SpikeLatencyEncoder()\n",
              "  (snn): SNN(\n",
              "    (l1): LIFCell(784, 100, p=LIFParameters(tau_syn_inv=tensor(200.), tau_mem_inv=tensor(100.), v_leak=tensor(0.), v_th=tensor(1.), v_reset=tensor(0.), method='super', alpha=100), dt=0.001)\n",
              "    (fc_out): Linear(in_features=100, out_features=10, bias=False)\n",
              "    (out): LIFeedForwardCell()\n",
              "  )\n",
              ")"
            ]
          },
          "metadata": {
            "tags": []
          },
          "execution_count": 135
        }
      ]
    },
    {
      "cell_type": "code",
      "metadata": {
        "id": "jynkfxjr4maa",
        "colab_type": "code",
        "outputId": "a78d4dc7-706d-438b-dbde-2886da9a852e",
        "colab": {
          "base_uri": "https://localhost:8080/",
          "height": 712
        }
      },
      "source": [
        "training_losses = []\n",
        "mean_losses = []\n",
        "test_losses = []\n",
        "accuracies = []\n",
        "\n",
        "for epoch in range(EPOCHS):\n",
        "    training_loss, mean_loss = train(model, DEVICE, train_loader, optimizer, epoch, max_epochs=EPOCHS)\n",
        "    test_loss, accuracy = test(model, DEVICE, test_loader, epoch)\n",
        "    training_losses += training_loss\n",
        "    mean_losses.append(mean_loss)\n",
        "    test_losses.append(test_loss)\n",
        "    accuracies.append(accuracy)       \n",
        "    print(f\"epoch: {epoch}, mean_loss: {mean_loss}, test_loss: {test_loss}, accuracy: {accuracy}\", flush=True)"
      ],
      "execution_count": 0,
      "outputs": [
        {
          "output_type": "stream",
          "text": [
            "100%|██████████| 235/235 [00:44<00:00,  5.66it/s]\n"
          ],
          "name": "stderr"
        },
        {
          "output_type": "stream",
          "text": [
            "epoch: 0, mean_loss: 0.9006699875314185, test_loss: 0.34513112630844117, accuracy: 89.69\n"
          ],
          "name": "stdout"
        },
        {
          "output_type": "stream",
          "text": [
            "100%|██████████| 235/235 [00:43<00:00,  5.59it/s]\n"
          ],
          "name": "stderr"
        },
        {
          "output_type": "stream",
          "text": [
            "epoch: 1, mean_loss: 0.2988795388252177, test_loss: 0.2665850968360901, accuracy: 91.82\n"
          ],
          "name": "stdout"
        },
        {
          "output_type": "stream",
          "text": [
            "100%|██████████| 235/235 [00:42<00:00,  6.15it/s]\n"
          ],
          "name": "stderr"
        },
        {
          "output_type": "stream",
          "text": [
            "epoch: 2, mean_loss: 0.24803089214132187, test_loss: 0.23676734795570373, accuracy: 92.91\n"
          ],
          "name": "stdout"
        },
        {
          "output_type": "stream",
          "text": [
            "100%|██████████| 235/235 [00:42<00:00,  5.52it/s]\n"
          ],
          "name": "stderr"
        },
        {
          "output_type": "stream",
          "text": [
            "epoch: 3, mean_loss: 0.21717543633694344, test_loss: 0.21171112732887268, accuracy: 93.55\n"
          ],
          "name": "stdout"
        },
        {
          "output_type": "stream",
          "text": [
            "100%|██████████| 235/235 [00:42<00:00,  5.52it/s]\n"
          ],
          "name": "stderr"
        },
        {
          "output_type": "stream",
          "text": [
            "epoch: 4, mean_loss: 0.19673739158092662, test_loss: 0.20673803982734681, accuracy: 93.55\n"
          ],
          "name": "stdout"
        },
        {
          "output_type": "stream",
          "text": [
            "100%|██████████| 235/235 [00:42<00:00,  5.63it/s]\n"
          ],
          "name": "stderr"
        },
        {
          "output_type": "stream",
          "text": [
            "epoch: 5, mean_loss: 0.17953372429660025, test_loss: 0.1905427936553955, accuracy: 94.18\n"
          ],
          "name": "stdout"
        },
        {
          "output_type": "stream",
          "text": [
            "100%|██████████| 235/235 [00:43<00:00,  6.13it/s]\n"
          ],
          "name": "stderr"
        },
        {
          "output_type": "stream",
          "text": [
            "epoch: 6, mean_loss: 0.16242593357220608, test_loss: 0.17897028708457946, accuracy: 94.5\n"
          ],
          "name": "stdout"
        },
        {
          "output_type": "stream",
          "text": [
            "100%|██████████| 235/235 [00:43<00:00,  6.25it/s]\n"
          ],
          "name": "stderr"
        },
        {
          "output_type": "stream",
          "text": [
            "epoch: 7, mean_loss: 0.15489725034604682, test_loss: 0.17891288480758666, accuracy: 94.4\n"
          ],
          "name": "stdout"
        },
        {
          "output_type": "stream",
          "text": [
            "100%|██████████| 235/235 [00:42<00:00,  6.23it/s]\n"
          ],
          "name": "stderr"
        },
        {
          "output_type": "stream",
          "text": [
            "epoch: 8, mean_loss: 0.14629805538248508, test_loss: 0.16489505772590637, accuracy: 95.16\n"
          ],
          "name": "stdout"
        },
        {
          "output_type": "stream",
          "text": [
            "100%|██████████| 235/235 [00:42<00:00,  5.68it/s]\n"
          ],
          "name": "stderr"
        },
        {
          "output_type": "stream",
          "text": [
            "epoch: 9, mean_loss: 0.13631466687359708, test_loss: 0.1629575186252594, accuracy: 95.18\n"
          ],
          "name": "stdout"
        },
        {
          "output_type": "stream",
          "text": [
            "100%|██████████| 235/235 [00:41<00:00,  6.03it/s]\n"
          ],
          "name": "stderr"
        },
        {
          "output_type": "stream",
          "text": [
            "epoch: 10, mean_loss: 0.12596952097213016, test_loss: 0.1679364064693451, accuracy: 95.0\n"
          ],
          "name": "stdout"
        },
        {
          "output_type": "stream",
          "text": [
            "100%|██████████| 235/235 [00:42<00:00,  6.18it/s]\n"
          ],
          "name": "stderr"
        },
        {
          "output_type": "stream",
          "text": [
            "epoch: 11, mean_loss: 0.11962381078207747, test_loss: 0.14860851287841798, accuracy: 95.53\n"
          ],
          "name": "stdout"
        },
        {
          "output_type": "stream",
          "text": [
            "100%|██████████| 235/235 [00:41<00:00,  6.08it/s]\n"
          ],
          "name": "stderr"
        },
        {
          "output_type": "stream",
          "text": [
            "epoch: 12, mean_loss: 0.11450024435811855, test_loss: 0.1546076108455658, accuracy: 95.39\n"
          ],
          "name": "stdout"
        },
        {
          "output_type": "stream",
          "text": [
            "100%|██████████| 235/235 [00:42<00:00,  6.40it/s]\n"
          ],
          "name": "stderr"
        },
        {
          "output_type": "stream",
          "text": [
            "epoch: 13, mean_loss: 0.10818580664852832, test_loss: 0.1507509750366211, accuracy: 95.35\n"
          ],
          "name": "stdout"
        },
        {
          "output_type": "stream",
          "text": [
            "100%|██████████| 235/235 [00:41<00:00,  6.34it/s]\n"
          ],
          "name": "stderr"
        },
        {
          "output_type": "stream",
          "text": [
            "epoch: 14, mean_loss: 0.10346749780025888, test_loss: 0.14198316507339478, accuracy: 95.83\n"
          ],
          "name": "stdout"
        },
        {
          "output_type": "stream",
          "text": [
            "100%|██████████| 235/235 [00:41<00:00,  5.30it/s]\n"
          ],
          "name": "stderr"
        },
        {
          "output_type": "stream",
          "text": [
            "epoch: 15, mean_loss: 0.0994576660638794, test_loss: 0.1401276894569397, accuracy: 95.82\n"
          ],
          "name": "stdout"
        },
        {
          "output_type": "stream",
          "text": [
            "100%|██████████| 235/235 [00:41<00:00,  5.70it/s]\n"
          ],
          "name": "stderr"
        },
        {
          "output_type": "stream",
          "text": [
            "epoch: 16, mean_loss: 0.09279723463857427, test_loss: 0.14346082968711854, accuracy: 95.79\n"
          ],
          "name": "stdout"
        },
        {
          "output_type": "stream",
          "text": [
            "100%|██████████| 235/235 [00:41<00:00,  5.81it/s]\n"
          ],
          "name": "stderr"
        },
        {
          "output_type": "stream",
          "text": [
            "epoch: 17, mean_loss: 0.09257013219943706, test_loss: 0.14909147615432738, accuracy: 95.62\n"
          ],
          "name": "stdout"
        },
        {
          "output_type": "stream",
          "text": [
            "100%|██████████| 235/235 [00:42<00:00,  5.46it/s]\n"
          ],
          "name": "stderr"
        },
        {
          "output_type": "stream",
          "text": [
            "epoch: 18, mean_loss: 0.08613304580621263, test_loss: 0.1451199318408966, accuracy: 95.77\n"
          ],
          "name": "stdout"
        },
        {
          "output_type": "stream",
          "text": [
            "100%|██████████| 235/235 [00:41<00:00,  5.95it/s]\n"
          ],
          "name": "stderr"
        },
        {
          "output_type": "stream",
          "text": [
            "epoch: 19, mean_loss: 0.08291867974590748, test_loss: 0.13404768285751342, accuracy: 95.95\n"
          ],
          "name": "stdout"
        }
      ]
    },
    {
      "cell_type": "markdown",
      "metadata": {
        "id": "jUQSr3GAQ_Wd",
        "colab_type": "text"
      },
      "source": [
        "## Network with Poisson Encoded Input\n",
        "\n"
      ]
    },
    {
      "cell_type": "code",
      "metadata": {
        "id": "Hx7vMD2SQ51V",
        "colab_type": "code",
        "outputId": "7e239044-86c4-4f35-9288-688d99ee0c98",
        "colab": {
          "base_uri": "https://localhost:8080/",
          "height": 176
        }
      },
      "source": [
        "T = 32\n",
        "DEVICE = torch.device(\"cuda\")\n",
        "LR = 0.002\n",
        "INPUT_FEATURES = 28*28\n",
        "HIDDEN_FEATURES = 100\n",
        "OUTPUT_FEATURES = 10\n",
        "\n",
        "model = Model(\n",
        "    encoder=PoissonEncoder(T, DEVICE, rel_fmax=0.02),\n",
        "    snn=SNN(\n",
        "      input_features=INPUT_FEATURES,\n",
        "      hidden_features=HIDDEN_FEATURES,\n",
        "      output_features=OUTPUT_FEATURES\n",
        "    ),\n",
        "    decoder=decode\n",
        ").to(DEVICE)\n",
        "\n",
        "optimizer = torch.optim.Adam(model.p(), lr=LR)\n",
        "model"
      ],
      "execution_count": 0,
      "outputs": [
        {
          "output_type": "execute_result",
          "data": {
            "text/plain": [
              "Model(\n",
              "  (encoder): PoissonEncoder()\n",
              "  (snn): SNN(\n",
              "    (l1): LIFCell(784, 100, p=LIFParameters(tau_syn_inv=tensor(200.), tau_mem_inv=tensor(100.), v_leak=tensor(0.), v_th=tensor(1.), v_reset=tensor(0.), method='super', alpha=100), dt=0.001)\n",
              "    (fc_out): Linear(in_features=100, out_features=10, bias=False)\n",
              "    (out): LIFeedForwardCell()\n",
              "  )\n",
              ")"
            ]
          },
          "metadata": {
            "tags": []
          },
          "execution_count": 137
        }
      ]
    },
    {
      "cell_type": "code",
      "metadata": {
        "id": "9u1HP4LTRnQF",
        "colab_type": "code",
        "outputId": "afb3808a-ba27-44f5-b8ac-396e2de37015",
        "colab": {
          "base_uri": "https://localhost:8080/",
          "height": 712
        }
      },
      "source": [
        "training_losses = []\n",
        "mean_losses = []\n",
        "test_losses = []\n",
        "accuracies = []\n",
        "\n",
        "for epoch in range(EPOCHS):\n",
        "    training_loss, mean_loss = train(model, DEVICE, train_loader, optimizer, epoch, max_epochs=EPOCHS)\n",
        "    test_loss, accuracy = test(model, DEVICE, test_loader, epoch)\n",
        "    training_losses += training_loss\n",
        "    mean_losses.append(mean_loss)\n",
        "    test_losses.append(test_loss)\n",
        "    accuracies.append(accuracy)       \n",
        "    print(f\"epoch: {epoch}, mean_loss: {mean_loss}, test_loss: {test_loss}, accuracy: {accuracy}\", flush=True)"
      ],
      "execution_count": 0,
      "outputs": [
        {
          "output_type": "stream",
          "text": [
            "100%|██████████| 235/235 [00:27<00:00,  8.65it/s]\n"
          ],
          "name": "stderr"
        },
        {
          "output_type": "stream",
          "text": [
            "epoch: 0, mean_loss: 0.9992017693976138, test_loss: 0.43428989658355716, accuracy: 86.79\n"
          ],
          "name": "stdout"
        },
        {
          "output_type": "stream",
          "text": [
            "100%|██████████| 235/235 [00:27<00:00,  8.68it/s]\n"
          ],
          "name": "stderr"
        },
        {
          "output_type": "stream",
          "text": [
            "epoch: 1, mean_loss: 0.41731909082290974, test_loss: 0.35878095035552976, accuracy: 88.73\n"
          ],
          "name": "stdout"
        },
        {
          "output_type": "stream",
          "text": [
            "100%|██████████| 235/235 [00:27<00:00,  8.65it/s]\n"
          ],
          "name": "stderr"
        },
        {
          "output_type": "stream",
          "text": [
            "epoch: 2, mean_loss: 0.3605064757326816, test_loss: 0.3197833188056946, accuracy: 90.01\n"
          ],
          "name": "stdout"
        },
        {
          "output_type": "stream",
          "text": [
            "100%|██████████| 235/235 [00:26<00:00,  8.03it/s]\n"
          ],
          "name": "stderr"
        },
        {
          "output_type": "stream",
          "text": [
            "epoch: 3, mean_loss: 0.32306043626146114, test_loss: 0.301972878742218, accuracy: 90.51\n"
          ],
          "name": "stdout"
        },
        {
          "output_type": "stream",
          "text": [
            "100%|██████████| 235/235 [00:27<00:00,  8.49it/s]\n"
          ],
          "name": "stderr"
        },
        {
          "output_type": "stream",
          "text": [
            "epoch: 4, mean_loss: 0.3011704326310056, test_loss: 0.2765873190402985, accuracy: 91.71\n"
          ],
          "name": "stdout"
        },
        {
          "output_type": "stream",
          "text": [
            "100%|██████████| 235/235 [00:26<00:00,  8.80it/s]\n"
          ],
          "name": "stderr"
        },
        {
          "output_type": "stream",
          "text": [
            "epoch: 5, mean_loss: 0.28099139434226017, test_loss: 0.27314179573059083, accuracy: 91.52\n"
          ],
          "name": "stdout"
        },
        {
          "output_type": "stream",
          "text": [
            "100%|██████████| 235/235 [00:27<00:00,  8.69it/s]\n"
          ],
          "name": "stderr"
        },
        {
          "output_type": "stream",
          "text": [
            "epoch: 6, mean_loss: 0.2617887281991066, test_loss: 0.2562270275115967, accuracy: 92.03\n"
          ],
          "name": "stdout"
        },
        {
          "output_type": "stream",
          "text": [
            "100%|██████████| 235/235 [00:27<00:00,  8.62it/s]\n"
          ],
          "name": "stderr"
        },
        {
          "output_type": "stream",
          "text": [
            "epoch: 7, mean_loss: 0.2523168512481324, test_loss: 0.23563082132339477, accuracy: 92.91\n"
          ],
          "name": "stdout"
        },
        {
          "output_type": "stream",
          "text": [
            "100%|██████████| 235/235 [00:27<00:00,  8.55it/s]\n"
          ],
          "name": "stderr"
        },
        {
          "output_type": "stream",
          "text": [
            "epoch: 8, mean_loss: 0.24061261833982264, test_loss: 0.23223449115753173, accuracy: 92.77\n"
          ],
          "name": "stdout"
        },
        {
          "output_type": "stream",
          "text": [
            "100%|██████████| 235/235 [00:27<00:00,  8.70it/s]\n"
          ],
          "name": "stderr"
        },
        {
          "output_type": "stream",
          "text": [
            "epoch: 9, mean_loss: 0.23250383683975706, test_loss: 0.21949655075073243, accuracy: 93.28\n"
          ],
          "name": "stdout"
        },
        {
          "output_type": "stream",
          "text": [
            "100%|██████████| 235/235 [00:26<00:00,  8.71it/s]\n"
          ],
          "name": "stderr"
        },
        {
          "output_type": "stream",
          "text": [
            "epoch: 10, mean_loss: 0.2201880411898836, test_loss: 0.21411137180328368, accuracy: 93.35\n"
          ],
          "name": "stdout"
        },
        {
          "output_type": "stream",
          "text": [
            "100%|██████████| 235/235 [00:26<00:00,  8.83it/s]\n"
          ],
          "name": "stderr"
        },
        {
          "output_type": "stream",
          "text": [
            "epoch: 11, mean_loss: 0.217995570980488, test_loss: 0.21134659309387208, accuracy: 93.19\n"
          ],
          "name": "stdout"
        },
        {
          "output_type": "stream",
          "text": [
            "100%|██████████| 235/235 [00:26<00:00,  8.71it/s]\n"
          ],
          "name": "stderr"
        },
        {
          "output_type": "stream",
          "text": [
            "epoch: 12, mean_loss: 0.21076059563362853, test_loss: 0.22475980072021484, accuracy: 92.95\n"
          ],
          "name": "stdout"
        },
        {
          "output_type": "stream",
          "text": [
            "100%|██████████| 235/235 [00:26<00:00,  8.83it/s]\n"
          ],
          "name": "stderr"
        },
        {
          "output_type": "stream",
          "text": [
            "epoch: 13, mean_loss: 0.20386676661511685, test_loss: 0.20322841358184815, accuracy: 93.53\n"
          ],
          "name": "stdout"
        },
        {
          "output_type": "stream",
          "text": [
            "100%|██████████| 235/235 [00:26<00:00,  8.74it/s]\n"
          ],
          "name": "stderr"
        },
        {
          "output_type": "stream",
          "text": [
            "epoch: 14, mean_loss: 0.19716448590476462, test_loss: 0.20893913850784301, accuracy: 93.7\n"
          ],
          "name": "stdout"
        },
        {
          "output_type": "stream",
          "text": [
            "100%|██████████| 235/235 [00:26<00:00,  8.76it/s]\n"
          ],
          "name": "stderr"
        },
        {
          "output_type": "stream",
          "text": [
            "epoch: 15, mean_loss: 0.20112980052511742, test_loss: 0.20173357133865358, accuracy: 93.67\n"
          ],
          "name": "stdout"
        },
        {
          "output_type": "stream",
          "text": [
            "100%|██████████| 235/235 [00:27<00:00,  8.67it/s]\n"
          ],
          "name": "stderr"
        },
        {
          "output_type": "stream",
          "text": [
            "epoch: 16, mean_loss: 0.19079417887520284, test_loss: 0.19108040652275085, accuracy: 94.04\n"
          ],
          "name": "stdout"
        },
        {
          "output_type": "stream",
          "text": [
            "100%|██████████| 235/235 [00:27<00:00,  8.61it/s]\n"
          ],
          "name": "stderr"
        },
        {
          "output_type": "stream",
          "text": [
            "epoch: 17, mean_loss: 0.19035999914433094, test_loss: 0.17929933290481567, accuracy: 94.14\n"
          ],
          "name": "stdout"
        },
        {
          "output_type": "stream",
          "text": [
            "100%|██████████| 235/235 [00:27<00:00,  8.46it/s]\n"
          ],
          "name": "stderr"
        },
        {
          "output_type": "stream",
          "text": [
            "epoch: 18, mean_loss: 0.18179958339067215, test_loss: 0.197058252620697, accuracy: 93.74\n"
          ],
          "name": "stdout"
        },
        {
          "output_type": "stream",
          "text": [
            "100%|██████████| 235/235 [00:26<00:00,  8.72it/s]\n"
          ],
          "name": "stderr"
        },
        {
          "output_type": "stream",
          "text": [
            "epoch: 19, mean_loss: 0.18165037999761866, test_loss: 0.18520267295837403, accuracy: 94.14\n"
          ],
          "name": "stdout"
        }
      ]
    },
    {
      "cell_type": "markdown",
      "metadata": {
        "id": "YFLeAQPrkNbi",
        "colab_type": "text"
      },
      "source": [
        "As can be seen from the training result, this combination of hyperparameters, decoding and encoding scheme performs worse than the alternative we've presented before. As with any machine learning approach one of the biggest challenges is to find a combination of these choices that works well. Sometimes theoretical knowledge helps in making these choices. For example it is well known that poisson encoded input will converge with $1/\\sqrt{T}$, where $T$ is the number of timesteps. So most likely the low number of timesteps ($T = 32$) contributes to the poor performance.\n",
        "\n",
        "In the next section we will see that choice of network architecture is also key in training performant spiking neural networks, just as it is for artifiicial neural networks."
      ]
    },
    {
      "cell_type": "markdown",
      "metadata": {
        "id": "V2iFlyC-r40a",
        "colab_type": "text"
      },
      "source": [
        "## Convolutional Networks\n",
        "\n",
        "The simple two layer recurrent spiking neural network we've defined above achieves a respectable ~96.5% accuracy after 10 training epochs. One common way\n",
        "to improve on this performance is to use convolutional neural networks. We define here two convolutional layers and one spiking classification layer. Just as in the recurrent spiking neural network before, we use a non-spiking leaky integrator for readout.\n",
        "\n",
        "The ```torch.nn.functional.max_pool2d``` on binary values is a logical ```or``` operation on its inputs. \n"
      ]
    },
    {
      "cell_type": "code",
      "metadata": {
        "id": "BEcU9GMdBc8r",
        "colab_type": "code",
        "colab": {}
      },
      "source": [
        "from norse.torch.module.leaky_integrator import LICell\n",
        "from norse.torch.functional.lif import LIFFeedForwardState\n",
        "from norse.torch.functional.leaky_integrator import LIState\n",
        "\n",
        "from typing import NamedTuple\n",
        "\n",
        "class ConvNetState(NamedTuple):\n",
        "    lif0 : LIFFeedForwardState\n",
        "    lif1 : LIFFeedForwardState\n",
        "    lif2 : LIFFeedForwardState\n",
        "    readout : LIState\n",
        "\n",
        "\n",
        "\n",
        "class ConvNet(torch.nn.Module):\n",
        "    def __init__(\n",
        "        self,  num_channels=1, feature_size=28, method=\"super\", alpha=100, record=False\n",
        "    ):\n",
        "        super(ConvNet, self).__init__()\n",
        "\n",
        "        self.record = record\n",
        "        self.features = int(((feature_size - 4) / 2 - 4) / 2)\n",
        "\n",
        "        self.conv1 = torch.nn.Conv2d(num_channels, 20, 5, 1)\n",
        "        self.conv2 = torch.nn.Conv2d(20, 50, 5, 1)\n",
        "        self.fc1 = torch.nn.Linear(self.features * self.features * 50, 500)\n",
        "        self.lif0 = LIFFeedForwardCell(\n",
        "            (20, feature_size - 4, feature_size - 4),\n",
        "            p=LIFParameters(method=method, alpha=alpha),\n",
        "        )\n",
        "        self.lif1 = LIFFeedForwardCell(\n",
        "            (50, int((feature_size - 4) / 2) - 4, int((feature_size - 4) / 2) - 4),\n",
        "            p=LIFParameters(method=method, alpha=alpha),\n",
        "        )\n",
        "        self.lif2 = LIFFeedForwardCell(\n",
        "            (500,), p=LIFParameters(method=method, alpha=alpha)\n",
        "        )\n",
        "        self.out = LICell(500, 10)\n",
        "\n",
        "    def forward(self, x):\n",
        "        seq_length = x.shape[0]\n",
        "        batch_size = x.shape[1]\n",
        "\n",
        "        # specify the initial states\n",
        "        s0 = self.lif0.initial_state(batch_size, device=x.device, dtype=x.dtype)\n",
        "        s1 = self.lif1.initial_state(batch_size, device=x.device, dtype=x.dtype)\n",
        "        s2 = self.lif2.initial_state(batch_size, device=x.device, dtype=x.dtype)\n",
        "        so = self.out.initial_state(batch_size,  device=x.device, dtype=x.dtype)\n",
        "\n",
        "        voltages = torch.zeros(\n",
        "            seq_length, batch_size, 10, device=x.device, dtype=x.dtype\n",
        "        )\n",
        "\n",
        "        if self.record:\n",
        "          self.recording += ConvNetState(s0, s1, s2, so)\n",
        "        \n",
        "        for ts in range(seq_length):\n",
        "            z = self.conv1(x[ts, :])\n",
        "            z, s0 = self.lif0(z, s0)\n",
        "            z = torch.nn.functional.max_pool2d(z, 2, 2)\n",
        "            z = 10 * self.conv2(z)\n",
        "            z, s1 = self.lif1(z, s1)\n",
        "            z = torch.nn.functional.max_pool2d(z, 2, 2)\n",
        "            z = z.view(-1, 4 ** 2 * 50)\n",
        "            z = self.fc1(z)        \n",
        "            z, s2 = self.lif2(z, s2)\n",
        "            v, so = self.out(torch.nn.functional.relu(z), so)\n",
        "            voltages[ts, :, :] = v\n",
        "        return voltages"
      ],
      "execution_count": 0,
      "outputs": []
    },
    {
      "cell_type": "code",
      "metadata": {
        "id": "dWuEYbSK6BVc",
        "colab_type": "code",
        "outputId": "34126c40-d001-4d29-ee14-74dab14a4822",
        "colab": {
          "base_uri": "https://localhost:8080/",
          "height": 292
        }
      },
      "source": [
        "img, label = train_data[2]\n",
        "\n",
        "plt.matshow(img[0])\n",
        "plt.show()\n",
        "print(label)"
      ],
      "execution_count": 0,
      "outputs": [
        {
          "output_type": "display_data",
          "data": {
            "image/png": "[encoded data removed]",
            "text/plain": [
              "<Figure size 288x288 with 1 Axes>"
            ]
          },
          "metadata": {
            "tags": []
          }
        },
        {
          "output_type": "stream",
          "text": [
            "4\n"
          ],
          "name": "stdout"
        }
      ]
    },
    {
      "cell_type": "markdown",
      "metadata": {
        "id": "oiIMzaks6wVp",
        "colab_type": "text"
      },
      "source": [
        "Just as we did we can visualise the output of the untrained convolutional network on a sample input. Notice that compared to the previous untrained\n",
        "output the first non-zero membrane trace values appear later. This is due to \n",
        "the fact that there is a finite delay for each added layer in the network. "
      ]
    },
    {
      "cell_type": "code",
      "metadata": {
        "id": "ej6ADCz7zYNj",
        "colab_type": "code",
        "outputId": "ded9531b-ed39-4647-e77e-8767dd829710",
        "colab": {
          "base_uri": "https://localhost:8080/",
          "height": 279
        }
      },
      "source": [
        "T = 48\n",
        "example_encoder = Encoder(T, \"cpu\")\n",
        "example_input = example_encoder(img)\n",
        "example_snn = ConvNet()\n",
        "example_readout_voltages = example_snn(example_input.unsqueeze(1))\n",
        "\n",
        "plt.plot(example_readout_voltages.squeeze(1).detach().numpy())\n",
        "plt.ylabel('Voltage [a.u.]')\n",
        "plt.xlabel('Time [ms]')\n",
        "plt.show()"
      ],
      "execution_count": 0,
      "outputs": [
        {
          "output_type": "display_data",
          "data": {
            "image/png": "[encoded data removed]",
            "text/plain": [
              "<Figure size 432x288 with 1 Axes>"
            ]
          },
          "metadata": {
            "tags": []
          }
        }
      ]
    },
    {
      "cell_type": "code",
      "metadata": {
        "id": "F0ZP9KzzUKiG",
        "colab_type": "code",
        "outputId": "68690075-ae82-4647-83c1-174642798c2e",
        "colab": {
          "base_uri": "https://localhost:8080/",
          "height": 280
        }
      },
      "source": [
        "T = 48\n",
        "DEVICE = torch.device(\"cuda\")\n",
        "LR = 0.001\n",
        "EPOCHS = 20\n",
        "\n",
        "model = Model(\n",
        "    encoder=Encoder(T, DEVICE),\n",
        "    snn=ConvNet(alpha=80),\n",
        "    decoder=decode\n",
        ").to(DEVICE)\n",
        "\n",
        "optimizer = torch.optim.Adam(model.p(), lr=LR)\n",
        "model"
      ],
      "execution_count": 0,
      "outputs": [
        {
          "output_type": "execute_result",
          "data": {
            "text/plain": [
              "Model(\n",
              "  (encoder): Encoder(\n",
              "    (constant_current_encoder): LIFConstantCurrentEncoder()\n",
              "  )\n",
              "  (snn): ConvNet(\n",
              "    (conv1): Conv2d(1, 20, kernel_size=(5, 5), stride=(1, 1))\n",
              "    (conv2): Conv2d(20, 50, kernel_size=(5, 5), stride=(1, 1))\n",
              "    (fc1): Linear(in_features=800, out_features=500, bias=True)\n",
              "    (lif0): LIFFeedForwardCell((20, 24, 24), p=LIFParameters(tau_syn_inv=tensor(200.), tau_mem_inv=tensor(100.), v_leak=tensor(0.), v_th=tensor(1.), v_reset=tensor(0.), method='super', alpha=80), dt=0.001)\n",
              "    (lif1): LIFFeedForwardCell((50, 8, 8), p=LIFParameters(tau_syn_inv=tensor(200.), tau_mem_inv=tensor(100.), v_leak=tensor(0.), v_th=tensor(1.), v_reset=tensor(0.), method='super', alpha=80), dt=0.001)\n",
              "    (lif2): LIFFeedForwardCell((500,), p=LIFParameters(tau_syn_inv=tensor(200.), tau_mem_inv=tensor(100.), v_leak=tensor(0.), v_th=tensor(1.), v_reset=tensor(0.), method='super', alpha=80), dt=0.001)\n",
              "    (out): LICell()\n",
              "  )\n",
              ")"
            ]
          },
          "metadata": {
            "tags": []
          },
          "execution_count": 142
        }
      ]
    },
    {
      "cell_type": "code",
      "metadata": {
        "id": "IL46G6sdVxoN",
        "colab_type": "code",
        "outputId": "81eb3bf5-db7b-4adb-eea4-72bd75a8dc6a",
        "colab": {
          "base_uri": "https://localhost:8080/",
          "height": 697
        }
      },
      "source": [
        "training_losses = []\n",
        "mean_losses = []\n",
        "test_losses = []\n",
        "accuracies = []\n",
        "\n",
        "for epoch in range(EPOCHS):\n",
        "    training_loss, mean_loss = train(model, DEVICE, train_loader, optimizer, epoch, max_epochs=EPOCHS)\n",
        "    test_loss, accuracy = test(model, DEVICE, test_loader, epoch)\n",
        "    training_losses += training_loss\n",
        "    mean_losses.append(mean_loss)\n",
        "    test_losses.append(test_loss)\n",
        "    accuracies.append(accuracy)       \n",
        "    print(f\"epoch: {epoch}, mean_loss: {mean_loss}, test_loss: {test_loss}, accuracy: {accuracy}\", flush=True)"
      ],
      "execution_count": 0,
      "outputs": [
        {
          "output_type": "stream",
          "text": [
            "100%|██████████| 235/235 [01:24<00:00,  3.20it/s]\n"
          ],
          "name": "stderr"
        },
        {
          "output_type": "stream",
          "text": [
            "epoch: 0, mean_loss: 0.28864158533037976, test_loss: 0.05850035996437073, accuracy: 98.26\n"
          ],
          "name": "stdout"
        },
        {
          "output_type": "stream",
          "text": [
            "100%|██████████| 235/235 [01:24<00:00,  3.22it/s]\n"
          ],
          "name": "stderr"
        },
        {
          "output_type": "stream",
          "text": [
            "epoch: 1, mean_loss: 0.060347875318628674, test_loss: 0.046167330265045166, accuracy: 98.68\n"
          ],
          "name": "stdout"
        },
        {
          "output_type": "stream",
          "text": [
            "100%|██████████| 235/235 [01:24<00:00,  3.26it/s]\n"
          ],
          "name": "stderr"
        },
        {
          "output_type": "stream",
          "text": [
            "epoch: 2, mean_loss: 0.04550637764103235, test_loss: 0.044066152572631835, accuracy: 98.51\n"
          ],
          "name": "stdout"
        },
        {
          "output_type": "stream",
          "text": [
            "100%|██████████| 235/235 [01:24<00:00,  3.11it/s]\n"
          ],
          "name": "stderr"
        },
        {
          "output_type": "stream",
          "text": [
            "epoch: 3, mean_loss: 0.04026577079946057, test_loss: 0.037498079085350036, accuracy: 98.64\n"
          ],
          "name": "stdout"
        },
        {
          "output_type": "stream",
          "text": [
            "100%|██████████| 235/235 [01:24<00:00,  3.13it/s]\n"
          ],
          "name": "stderr"
        },
        {
          "output_type": "stream",
          "text": [
            "epoch: 4, mean_loss: 0.03620796542059868, test_loss: 0.03518858847618103, accuracy: 98.79\n"
          ],
          "name": "stdout"
        },
        {
          "output_type": "stream",
          "text": [
            "100%|██████████| 235/235 [01:24<00:00,  3.23it/s]\n"
          ],
          "name": "stderr"
        },
        {
          "output_type": "stream",
          "text": [
            "epoch: 5, mean_loss: 0.034174841396669126, test_loss: 0.03386257925033569, accuracy: 98.98\n"
          ],
          "name": "stdout"
        },
        {
          "output_type": "stream",
          "text": [
            "100%|██████████| 235/235 [01:24<00:00,  3.21it/s]\n"
          ],
          "name": "stderr"
        },
        {
          "output_type": "stream",
          "text": [
            "epoch: 6, mean_loss: 0.031108285763122617, test_loss: 0.04240041832923889, accuracy: 98.61\n"
          ],
          "name": "stdout"
        },
        {
          "output_type": "stream",
          "text": [
            "100%|██████████| 235/235 [01:24<00:00,  3.25it/s]\n"
          ],
          "name": "stderr"
        },
        {
          "output_type": "stream",
          "text": [
            "epoch: 7, mean_loss: 0.02688064182454601, test_loss: 0.03731053867340088, accuracy: 98.77\n"
          ],
          "name": "stdout"
        },
        {
          "output_type": "stream",
          "text": [
            "100%|██████████| 235/235 [01:24<00:00,  3.29it/s]\n"
          ],
          "name": "stderr"
        },
        {
          "output_type": "stream",
          "text": [
            "epoch: 8, mean_loss: 0.02712853801278199, test_loss: 0.031055439043045044, accuracy: 98.96\n"
          ],
          "name": "stdout"
        },
        {
          "output_type": "stream",
          "text": [
            "100%|██████████| 235/235 [01:24<00:00,  3.27it/s]\n"
          ],
          "name": "stderr"
        },
        {
          "output_type": "stream",
          "text": [
            "epoch: 9, mean_loss: 0.02525217201005905, test_loss: 0.032692259979248045, accuracy: 99.02\n"
          ],
          "name": "stdout"
        },
        {
          "output_type": "stream",
          "text": [
            "100%|██████████| 235/235 [01:25<00:00,  3.21it/s]\n"
          ],
          "name": "stderr"
        },
        {
          "output_type": "stream",
          "text": [
            "epoch: 10, mean_loss: 0.02398874908289377, test_loss: 0.03435834836959839, accuracy: 98.86\n"
          ],
          "name": "stdout"
        },
        {
          "output_type": "stream",
          "text": [
            "100%|██████████| 235/235 [01:25<00:00,  3.25it/s]\n"
          ],
          "name": "stderr"
        },
        {
          "output_type": "stream",
          "text": [
            "epoch: 11, mean_loss: 0.02377033637281745, test_loss: 0.037614232254028324, accuracy: 98.77\n"
          ],
          "name": "stdout"
        },
        {
          "output_type": "stream",
          "text": [
            "100%|██████████| 235/235 [01:24<00:00,  3.30it/s]\n"
          ],
          "name": "stderr"
        },
        {
          "output_type": "stream",
          "text": [
            "epoch: 12, mean_loss: 0.02095211238620129, test_loss: 0.0347340014219284, accuracy: 98.87\n"
          ],
          "name": "stdout"
        },
        {
          "output_type": "stream",
          "text": [
            "100%|██████████| 235/235 [01:24<00:00,  3.17it/s]\n"
          ],
          "name": "stderr"
        },
        {
          "output_type": "stream",
          "text": [
            "epoch: 13, mean_loss: 0.023120304482414367, test_loss: 0.04975966444015503, accuracy: 98.6\n"
          ],
          "name": "stdout"
        },
        {
          "output_type": "stream",
          "text": [
            "100%|██████████| 235/235 [01:24<00:00,  3.29it/s]\n"
          ],
          "name": "stderr"
        },
        {
          "output_type": "stream",
          "text": [
            "epoch: 14, mean_loss: 0.021039760477365332, test_loss: 0.0342229362487793, accuracy: 99.01\n"
          ],
          "name": "stdout"
        },
        {
          "output_type": "stream",
          "text": [
            "100%|██████████| 235/235 [01:25<00:00,  3.24it/s]\n"
          ],
          "name": "stderr"
        },
        {
          "output_type": "stream",
          "text": [
            "epoch: 15, mean_loss: 0.021269923424784173, test_loss: 0.04045431344509125, accuracy: 98.79\n"
          ],
          "name": "stdout"
        },
        {
          "output_type": "stream",
          "text": [
            "100%|██████████| 235/235 [01:25<00:00,  3.19it/s]\n"
          ],
          "name": "stderr"
        },
        {
          "output_type": "stream",
          "text": [
            "epoch: 16, mean_loss: 0.021673016432434956, test_loss: 0.03570608568191529, accuracy: 98.88\n"
          ],
          "name": "stdout"
        },
        {
          "output_type": "stream",
          "text": [
            "100%|██████████| 235/235 [01:24<00:00,  3.20it/s]\n"
          ],
          "name": "stderr"
        },
        {
          "output_type": "stream",
          "text": [
            "epoch: 17, mean_loss: 0.02050195658539838, test_loss: 0.0364889440536499, accuracy: 98.93\n"
          ],
          "name": "stdout"
        },
        {
          "output_type": "stream",
          "text": [
            "100%|██████████| 235/235 [01:24<00:00,  3.21it/s]\n"
          ],
          "name": "stderr"
        },
        {
          "output_type": "stream",
          "text": [
            "epoch: 18, mean_loss: 0.018571171239811054, test_loss: 0.03548729639053345, accuracy: 98.94\n"
          ],
          "name": "stdout"
        },
        {
          "output_type": "stream",
          "text": [
            "100%|██████████| 235/235 [01:25<00:00,  3.24it/s]\n"
          ],
          "name": "stderr"
        },
        {
          "output_type": "stream",
          "text": [
            "epoch: 19, mean_loss: 0.01867861621715921, test_loss: 0.04874699177742004, accuracy: 98.69\n"
          ],
          "name": "stdout"
        }
      ]
    },
    {
      "cell_type": "code",
      "metadata": {
        "id": "R6aZXCqOVZjI",
        "colab_type": "code",
        "outputId": "3872d48e-b3a3-44ff-ff2f-0ae9f8563271",
        "colab": {
          "base_uri": "https://localhost:8080/",
          "height": 296
        }
      },
      "source": [
        "trained_snn = model.snn.cpu()\n",
        "\n",
        "trained_readout_voltages = trained_snn(example_input.unsqueeze(1))\n",
        "\n",
        "print(trained_readout_voltages.shape)\n",
        "\n",
        "for i in range(10):\n",
        "  plt.plot(trained_readout_voltages[:,:,i].squeeze(1).detach().numpy(), label=f'{i}')\n",
        "\n",
        "plt.ylabel('Voltage [a.u.]')\n",
        "plt.xlabel('Time [ms]')\n",
        "plt.legend()\n",
        "plt.show()"
      ],
      "execution_count": 0,
      "outputs": [
        {
          "output_type": "stream",
          "text": [
            "torch.Size([48, 1, 10])\n"
          ],
          "name": "stdout"
        },
        {
          "output_type": "display_data",
          "data": {
            "image/png": "[encoded data removed]",
            "text/plain": [
              "<Figure size 432x288 with 1 Axes>"
            ]
          },
          "metadata": {
            "tags": []
          }
        }
      ]
    },
    {
      "cell_type": "markdown",
      "metadata": {
        "id": "4YKMRqTOfO9l",
        "colab_type": "text"
      },
      "source": [
        "As we can see the output neuron for the label '4' indeed integrates\n",
        "the largest number of spikes."
      ]
    },
    {
      "cell_type": "code",
      "metadata": {
        "id": "pRjmCTIdcawn",
        "colab_type": "code",
        "outputId": "310710ab-de93-4e3b-d983-7c0da8973231",
        "colab": {
          "base_uri": "https://localhost:8080/",
          "height": 292
        }
      },
      "source": [
        "plt.matshow(np.squeeze(img,0))"
      ],
      "execution_count": 0,
      "outputs": [
        {
          "output_type": "execute_result",
          "data": {
            "text/plain": [
              "<matplotlib.image.AxesImage at 0x7f014d6367b8>"
            ]
          },
          "metadata": {
            "tags": []
          },
          "execution_count": 80
        },
        {
          "output_type": "display_data",
          "data": {
            "image/png": "[encoded data removed]",
            "text/plain": [
              "<Figure size 288x288 with 1 Axes>"
            ]
          },
          "metadata": {
            "tags": []
          }
        }
      ]
    },
    {
      "cell_type": "markdown",
      "metadata": {
        "id": "M_OUx3IKlQLE",
        "colab_type": "text"
      },
      "source": [
        "## Conclusions\n",
        "\n",
        "We've seen that on a small supervised learning task it is relatively easy to define spiking neural networks that perform about as well as non-spiking artificial networks. The network architecture used is in direct correspondence to one that would be used to solve such a task with an artificial neural network, with the non-linearities replaced by spiking units. \n",
        "\n",
        "The remaining difference in performance might be related to a number of choices:\n",
        "- hyperparameters of the optimizer\n",
        "- precise architecture (e.g. dimensionality of the classification layer)\n",
        "- weight initialisation\n",
        "- decoding scheme\n",
        "- encoding scheme\n",
        "- number of integration timesteps\n",
        "\n",
        "The first three points are in common with the problems encountered in the design and training of artificial neural network classifiers. Comparatively little is known though about their interplay for spiking neural network architectures.\n",
        "\n",
        "The last three points are special to spiking neural network problems simply because of their constraints on what kind of data they can process naturally. While their interplay has certainly been investigated in the literature, it is unclear if there is a good answer what encoding and decoding should be chosen in general.\n",
        "\n",
        "Finally we've also omitted any regularisation or data-augementation, which could further improve performance. Common techniques would be to introduce weight decay or penalise unbiologically high firing rates. In the simplest case those can enter as addtional terms in the loss function we've defined above."
      ]
    }
  ]
}