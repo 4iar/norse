{
  "cells": [
    {
      "cell_type": "code",
      "execution_count": null,
      "metadata": {
        "collapsed": false
      },
      "outputs": [],
      "source": [
        "%matplotlib inline"
      ]
    },
    {
      "cell_type": "markdown",
      "metadata": {},
      "source": [
        "\n# Spiking Neural Networks\n\nSpiking neural networks are not that much different than Artificial Neural\nNetworks that are currently most commonly in use. The main difference is\nthat there is an insistence that communication between units in the network\nhappens through spikes - represented as binary one or zero - and that time\nis involved.\n\n## How to define a Network\n\nThe spiking neural network primitives in norse are designed to fit in\nas seamlessly as possible into a traditional deep learning pipeline.\n"
      ]
    },
    {
      "cell_type": "code",
      "execution_count": null,
      "metadata": {
        "collapsed": false
      },
      "outputs": [],
      "source": [
        "import torch\nfrom norse.torch.functional.lif import LIFParameters\n\nfrom norse.torch.module.leaky_integrator import LICell\nfrom norse.torch.module.lif import LIFFeedForwardCell\n\n\nclass Net(torch.nn.Module):\n    def __init__(\n        self,\n        num_channels=1,\n        feature_size=32,\n        model=\"super\",\n        dtype=torch.float,\n    ):\n        super(Net, self).__init__()\n        self.features = int(((feature_size - 4) / 2 - 4) / 2)\n\n        self.conv1 = torch.nn.Conv2d(num_channels, 32, 5, 1)\n        self.conv2 = torch.nn.Conv2d(32, 64, 5, 1)\n        self.fc1 = torch.nn.Linear(self.features * self.features * 64, 1024)\n        self.lif0 = LIFFeedForwardCell(\n            p=LIFParameters(method=model, alpha=100.0),\n        )\n        self.lif1 = LIFFeedForwardCell(\n            p=LIFParameters(method=model, alpha=100.0),\n        )\n        self.lif2 = LIFFeedForwardCell(p=LIFParameters(method=model, alpha=100.0))\n        self.out = LICell(1024, 10)\n        self.dtype = dtype\n        # One would normally also define the device here\n        # However, Norse has been built to infer the device type from the input data\n        # It is still possible to enforce the device type on initialisation\n        # More details are available in our documentation:\n        #   https://norse.github.io/norse/hardware.html\n\n    def forward(self, x):\n        seq_length = x.shape[0]\n        seq_batch_size = x.shape[1]\n\n        # Initialize state variables\n        s0 = None\n        s1 = None\n        s2 = None\n        so = None\n\n        voltages = torch.zeros(seq_length, seq_batch_size, 10, dtype=self.dtype)\n\n        for ts in range(seq_length):\n            z = self.conv1(x[ts, :])\n            z, s0 = self.lif0(z, s0)\n            z = torch.nn.functional.max_pool2d(z, 2, 2)\n            z = 10 * self.conv2(z)\n            z, s1 = self.lif1(z, s1)\n            z = torch.nn.functional.max_pool2d(z, 2, 2)\n            z = z.view(-1, self.features ** 2 * 64)\n            z = self.fc1(z)\n            z, s2 = self.lif2(z, s2)\n            v, so = self.out(torch.nn.functional.relu(z), so)\n            voltages[ts, :, :] = v\n        return voltages\n\n\nif __name__ == \"__main__\":\n    net = Net()\n    print(net)\n\n    ########################################################################\n    # We can evaluate the network we just defined on an input of size 1x32x32.\n    # Note that in contrast to typical spiking neural network simulators time\n    # is just another dimension in the input tensor here we chose to evaluate\n    # the network on 16 timesteps and there is an explicit batch dimension\n    # (number of concurrently evaluated inputs with identical model parameters).\n\n    timesteps = 16\n    batch_size = 1\n    data = torch.abs(torch.randn(timesteps, batch_size, 1, 32, 32))\n    out = net(data)\n    print(out)\n\n    ##########################################################################\n    # Since the spiking neural network is implemented as a pytorch module, we\n    # can use the usual pytorch primitives for optimizing it. Note that the\n    # backward computation expects a gradient for each timestep\n\n    net.zero_grad()\n    out.backward(torch.randn(timesteps, batch_size, 10))\n\n    ########################################################################\n    # .. note::\n    #\n    #     ``norse`` like pytorch only supports mini-batches. This means that\n    #     contrary to most other spiking neural network simulators ```norse```\n    #     always integrates several indepdentent sets of spiking neural\n    #     networks at once."
      ]
    }
  ],
  "metadata": {
    "kernelspec": {
      "display_name": "Python 3",
      "language": "python",
      "name": "python3"
    },
    "language_info": {
      "codemirror_mode": {
        "name": "ipython",
        "version": 3
      },
      "file_extension": ".py",
      "mimetype": "text/x-python",
      "name": "python",
      "nbconvert_exporter": "python",
      "pygments_lexer": "ipython3",
      "version": "3.8.2"
    }
  },
  "nbformat": 4,
  "nbformat_minor": 0
}