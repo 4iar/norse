{
  "cells": [
    {
      "cell_type": "code",
      "execution_count": null,
      "metadata": {
        "collapsed": false
      },
      "outputs": [],
      "source": [
        "%matplotlib inline"
      ]
    },
    {
      "cell_type": "markdown",
      "metadata": {},
      "source": [
        "\nMNIST classification example\n============================\n"
      ]
    },
    {
      "cell_type": "code",
      "execution_count": null,
      "metadata": {
        "collapsed": false
      },
      "outputs": [],
      "source": [
        "import norse.task.mnist as mnist\n\nfrom absl import app\nfrom absl import flags\n\nflags.DEFINE_enum(\"device\", \"cpu\", [\"cpu\", \"cuda\"], \"Device to use by pytorch.\")\nflags.DEFINE_integer(\"epochs\", 10, \"Number of training episodes to do.\")\nflags.DEFINE_integer(\"seq_length\", 200, \"Number of timesteps to do.\")\nflags.DEFINE_integer(\"batch_size\", 32, \"Number of examples in one minibatch.\")\nflags.DEFINE_enum(\n    \"model\",\n    \"super\",\n    [\"super\", \"tanh\", \"circ\", \"logistic\", \"circ_dist\"],\n    \"Model to use for training.\",\n)\nflags.DEFINE_string(\"prefix\", \"\", \"Prefix to use for saving the results\")\nflags.DEFINE_enum(\n    \"optimizer\", \"adam\", [\"adam\", \"sgd\"], \"Optimizer to use for training.\"\n)\nflags.DEFINE_bool(\"clip_grad\", False, \"Clip gradient during backpropagation\")\nflags.DEFINE_float(\"grad_clip_value\", 1.0, \"Gradient to clip at.\")\nflags.DEFINE_float(\"learning_rate\", 2e-3, \"Learning rate to use.\")\nflags.DEFINE_integer(\n    \"log_interval\", 10, \"In which intervals to display learning progress.\"\n)\nflags.DEFINE_integer(\"model_save_interval\", 50, \"Save model every so many epochs.\")\nflags.DEFINE_boolean(\"save_model\", True, \"Save the model after training.\")\nflags.DEFINE_boolean(\"big_net\", False, \"Use bigger net...\")\nflags.DEFINE_boolean(\"only_output\", False, \"Train only the last layer...\")\nflags.DEFINE_boolean(\"do_plot\", False, \"Do intermediate plots\")\nflags.DEFINE_integer(\"random_seed\", 1234, \"Random seed to use\")\n\n\ndef main():\n    app.run(mnist.main)\n\n\nif __name__ == \"__main__\":\n    main()"
      ]
    }
  ],
  "metadata": {
    "kernelspec": {
      "display_name": "Python 3",
      "language": "python",
      "name": "python3"
    },
    "language_info": {
      "codemirror_mode": {
        "name": "ipython",
        "version": 3
      },
      "file_extension": ".py",
      "mimetype": "text/x-python",
      "name": "python",
      "nbconvert_exporter": "python",
      "pygments_lexer": "ipython3",
      "version": "3.8.2"
    }
  },
  "nbformat": 4,
  "nbformat_minor": 0
}