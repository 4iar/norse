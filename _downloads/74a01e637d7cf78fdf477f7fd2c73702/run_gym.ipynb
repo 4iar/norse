{
  "cells": [
    {
      "cell_type": "code",
      "execution_count": null,
      "metadata": {
        "collapsed": false
      },
      "outputs": [],
      "source": [
        "%matplotlib inline"
      ]
    },
    {
      "cell_type": "markdown",
      "metadata": {},
      "source": [
        "\nA cartpole learning example with OpenAI gym\n===========================================\n\nThis example illustrates how to use\n`OpenAI Gym <https://gym.openai.com/>`_ to\ntrain a cartpole task.\n"
      ]
    },
    {
      "cell_type": "code",
      "execution_count": null,
      "metadata": {
        "collapsed": false
      },
      "outputs": [],
      "source": [
        "import norse.task.cartpole as cartpole\nfrom absl import app\nfrom absl import flags\n\nflags.DEFINE_enum(\"device\", \"cpu\", [\"cpu\", \"cuda\"], \"Device to use by pytorch.\")\nflags.DEFINE_integer(\"episodes\", 100, \"Number of training trials.\")\nflags.DEFINE_float(\"learning_rate\", 1e-3, \"Learning rate to use.\")\nflags.DEFINE_float(\"gamma\", 0.99, \"discount factor to use\")\nflags.DEFINE_integer(\n    \"log_interval\", 10, \"In which intervals to display learning progress.\"\n)\nflags.DEFINE_enum(\"model\", \"super\", [\"super\"], \"Model to use for training.\")\nflags.DEFINE_enum(\"policy\", \"snn\", [\"snn\", \"lsnn\", \"ann\"], \"Select policy to use.\")\nflags.DEFINE_boolean(\"render\", False, \"Render the environment\")\nflags.DEFINE_string(\"environment\", \"CartPole-v1\", \"Gym environment to use.\")\nflags.DEFINE_integer(\"random_seed\", 1234, \"Random seed to use\")\n\n\ndef main():\n    app.run(cartpole.main)\n\n\nif __name__ == \"__main__\":\n    main()"
      ]
    }
  ],
  "metadata": {
    "kernelspec": {
      "display_name": "Python 3",
      "language": "python",
      "name": "python3"
    },
    "language_info": {
      "codemirror_mode": {
        "name": "ipython",
        "version": 3
      },
      "file_extension": ".py",
      "mimetype": "text/x-python",
      "name": "python",
      "nbconvert_exporter": "python",
      "pygments_lexer": "ipython3",
      "version": "3.8.2"
    }
  },
  "nbformat": 4,
  "nbformat_minor": 0
}